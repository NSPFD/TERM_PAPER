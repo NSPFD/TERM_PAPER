{
  "nbformat": 4,
  "nbformat_minor": 0,
  "metadata": {
    "colab": {
      "provenance": [],
      "authorship_tag": "ABX9TyPSCMPWfXtSTm8U4oXQ/098",
      "include_colab_link": true
    },
    "kernelspec": {
      "name": "python3",
      "display_name": "Python 3"
    },
    "language_info": {
      "name": "python"
    }
  },
  "cells": [
    {
      "cell_type": "markdown",
      "metadata": {
        "id": "view-in-github",
        "colab_type": "text"
      },
      "source": [
        "<a href=\"https://colab.research.google.com/github/NSPFD/TERM_PAPER/blob/main/QUANTUM_HYDROGEN_MOLECULE.ipynb\" target=\"_parent\"><img src=\"https://colab.research.google.com/assets/colab-badge.svg\" alt=\"Open In Colab\"/></a>"
      ]
    },
    {
      "cell_type": "markdown",
      "source": [
        "**ESTIMATION OF GROUND STATE ENERGY OF SMALL MOLECULES BASED ON QUANTUM COMPUTER**\n"
      ],
      "metadata": {
        "id": "dZKoo7FjpNQo"
      }
    },
    {
      "cell_type": "markdown",
      "source": [
        "In this chapter, we introduce a method to convert the Hamiltonian of an interacting electron system into a form that is easy for quantum computers to handle using OpenFermion[1], a python library for quantum chemistry calculation. OpenFermion provides connectivity to the open source libraries for quantum chemical calculations Psi4 and PySCF. Even if you do not understand the details of how to use these libraries, you can obtain the Hamiltonian of the electron system that appears in quantum chemical calculations simply by entering the structure of the molecule. Here, we use PySCF."
      ],
      "metadata": {
        "id": "u0wTlxBtpq20"
      }
    },
    {
      "cell_type": "code",
      "source": [
        "## If various libraries are not installed, please execute.\n",
        "## If you run on Google Colaboratory, ignore the following message waring, 'You must restart the runtime in order to use newly installed versions.'\n",
        "## Resuming runtime will lead to a crash.\n",
        "!pip install pyscf openfermion openfermionpyscf\n",
        "\n",
        "\n",
        "## Run only if you are in Google Colaboratory or in a local environment where Qulacs is not installed\n",
        "## Qulacs errors will now be output normally.\n",
        "!pip3 install wurlitzer\n",
        "%load_ext wurlitzer\n",
        "\n"
      ],
      "metadata": {
        "colab": {
          "base_uri": "https://localhost:8080/"
        },
        "id": "pyAifH1clLTx",
        "outputId": "6a806abe-7d18-427e-fc1d-276a427f939b"
      },
      "execution_count": 87,
      "outputs": [
        {
          "output_type": "stream",
          "name": "stdout",
          "text": [
            "Requirement already satisfied: pyscf in /usr/local/lib/python3.10/dist-packages (2.7.0)\n",
            "Requirement already satisfied: openfermion in /usr/local/lib/python3.10/dist-packages (1.6.1)\n",
            "Requirement already satisfied: openfermionpyscf in /usr/local/lib/python3.10/dist-packages (0.5)\n",
            "Requirement already satisfied: numpy!=1.16,!=1.17,>=1.13 in /usr/local/lib/python3.10/dist-packages (from pyscf) (1.26.4)\n",
            "Requirement already satisfied: scipy>=1.6.0 in /usr/local/lib/python3.10/dist-packages (from pyscf) (1.13.1)\n",
            "Requirement already satisfied: h5py>=2.7 in /usr/local/lib/python3.10/dist-packages (from pyscf) (3.12.1)\n",
            "Requirement already satisfied: setuptools in /usr/local/lib/python3.10/dist-packages (from pyscf) (75.1.0)\n",
            "Requirement already satisfied: cirq-core~=1.0 in /usr/local/lib/python3.10/dist-packages (from openfermion) (1.4.1)\n",
            "Requirement already satisfied: deprecation in /usr/local/lib/python3.10/dist-packages (from openfermion) (2.1.0)\n",
            "Requirement already satisfied: networkx in /usr/local/lib/python3.10/dist-packages (from openfermion) (3.4.2)\n",
            "Requirement already satisfied: pubchempy in /usr/local/lib/python3.10/dist-packages (from openfermion) (1.0.4)\n",
            "Requirement already satisfied: requests>=2.18 in /usr/local/lib/python3.10/dist-packages (from openfermion) (2.32.3)\n",
            "Requirement already satisfied: sympy in /usr/local/lib/python3.10/dist-packages (from openfermion) (1.13.1)\n",
            "Requirement already satisfied: pytest in /usr/local/lib/python3.10/dist-packages (from openfermionpyscf) (8.3.4)\n",
            "Requirement already satisfied: attrs>=21.3.0 in /usr/local/lib/python3.10/dist-packages (from cirq-core~=1.0->openfermion) (24.3.0)\n",
            "Requirement already satisfied: duet>=0.2.8 in /usr/local/lib/python3.10/dist-packages (from cirq-core~=1.0->openfermion) (0.2.9)\n",
            "Requirement already satisfied: matplotlib~=3.0 in /usr/local/lib/python3.10/dist-packages (from cirq-core~=1.0->openfermion) (3.10.0)\n",
            "Requirement already satisfied: pandas in /usr/local/lib/python3.10/dist-packages (from cirq-core~=1.0->openfermion) (2.2.2)\n",
            "Requirement already satisfied: sortedcontainers~=2.0 in /usr/local/lib/python3.10/dist-packages (from cirq-core~=1.0->openfermion) (2.4.0)\n",
            "Requirement already satisfied: typing-extensions>=4.2 in /usr/local/lib/python3.10/dist-packages (from cirq-core~=1.0->openfermion) (4.12.2)\n",
            "Requirement already satisfied: tqdm in /usr/local/lib/python3.10/dist-packages (from cirq-core~=1.0->openfermion) (4.67.1)\n",
            "Requirement already satisfied: charset-normalizer<4,>=2 in /usr/local/lib/python3.10/dist-packages (from requests>=2.18->openfermion) (3.4.1)\n",
            "Requirement already satisfied: idna<4,>=2.5 in /usr/local/lib/python3.10/dist-packages (from requests>=2.18->openfermion) (3.10)\n",
            "Requirement already satisfied: urllib3<3,>=1.21.1 in /usr/local/lib/python3.10/dist-packages (from requests>=2.18->openfermion) (2.3.0)\n",
            "Requirement already satisfied: certifi>=2017.4.17 in /usr/local/lib/python3.10/dist-packages (from requests>=2.18->openfermion) (2024.12.14)\n",
            "Requirement already satisfied: packaging in /usr/local/lib/python3.10/dist-packages (from deprecation->openfermion) (24.2)\n",
            "Requirement already satisfied: exceptiongroup>=1.0.0rc8 in /usr/local/lib/python3.10/dist-packages (from pytest->openfermionpyscf) (1.2.2)\n",
            "Requirement already satisfied: iniconfig in /usr/local/lib/python3.10/dist-packages (from pytest->openfermionpyscf) (2.0.0)\n",
            "Requirement already satisfied: pluggy<2,>=1.5 in /usr/local/lib/python3.10/dist-packages (from pytest->openfermionpyscf) (1.5.0)\n",
            "Requirement already satisfied: tomli>=1 in /usr/local/lib/python3.10/dist-packages (from pytest->openfermionpyscf) (2.2.1)\n",
            "Requirement already satisfied: mpmath<1.4,>=1.1.0 in /usr/local/lib/python3.10/dist-packages (from sympy->openfermion) (1.3.0)\n",
            "Requirement already satisfied: contourpy>=1.0.1 in /usr/local/lib/python3.10/dist-packages (from matplotlib~=3.0->cirq-core~=1.0->openfermion) (1.3.1)\n",
            "Requirement already satisfied: cycler>=0.10 in /usr/local/lib/python3.10/dist-packages (from matplotlib~=3.0->cirq-core~=1.0->openfermion) (0.12.1)\n",
            "Requirement already satisfied: fonttools>=4.22.0 in /usr/local/lib/python3.10/dist-packages (from matplotlib~=3.0->cirq-core~=1.0->openfermion) (4.55.3)\n",
            "Requirement already satisfied: kiwisolver>=1.3.1 in /usr/local/lib/python3.10/dist-packages (from matplotlib~=3.0->cirq-core~=1.0->openfermion) (1.4.8)\n",
            "Requirement already satisfied: pillow>=8 in /usr/local/lib/python3.10/dist-packages (from matplotlib~=3.0->cirq-core~=1.0->openfermion) (11.1.0)\n",
            "Requirement already satisfied: pyparsing>=2.3.1 in /usr/local/lib/python3.10/dist-packages (from matplotlib~=3.0->cirq-core~=1.0->openfermion) (3.2.1)\n",
            "Requirement already satisfied: python-dateutil>=2.7 in /usr/local/lib/python3.10/dist-packages (from matplotlib~=3.0->cirq-core~=1.0->openfermion) (2.8.2)\n",
            "Requirement already satisfied: pytz>=2020.1 in /usr/local/lib/python3.10/dist-packages (from pandas->cirq-core~=1.0->openfermion) (2024.2)\n",
            "Requirement already satisfied: tzdata>=2022.7 in /usr/local/lib/python3.10/dist-packages (from pandas->cirq-core~=1.0->openfermion) (2024.2)\n",
            "Requirement already satisfied: six>=1.5 in /usr/local/lib/python3.10/dist-packages (from python-dateutil>=2.7->matplotlib~=3.0->cirq-core~=1.0->openfermion) (1.17.0)\n",
            "Requirement already satisfied: wurlitzer in /usr/local/lib/python3.10/dist-packages (3.1.1)\n",
            "The wurlitzer extension is already loaded. To reload it, use:\n",
            "  %reload_ext wurlitzer\n"
          ]
        }
      ]
    },
    {
      "cell_type": "code",
      "source": [
        "#Import required libraries\n",
        "#If you get an error, install openfermion later than v.1.0.0\n",
        "import numpy as np\n",
        "import matplotlib.pyplot as plt\n",
        "from openfermion.chem import MolecularData\n",
        "from openfermion.transforms import get_fermion_operator, jordan_wigner, bravyi_kitaev\n",
        "from openfermion.linalg import get_sparse_operator\n",
        "from openfermion.ops import FermionOperator\n",
        "from openfermionpyscf import run_pyscf\n",
        "from pyscf import fci"
      ],
      "metadata": {
        "id": "cBCUEiMElYX5"
      },
      "execution_count": 88,
      "outputs": []
    },
    {
      "cell_type": "markdown",
      "source": [
        "**Calculation of hydrogen molecule**\n",
        "\n",
        "In OpenFermion, we enter data describing molecules into MolecularData class.\n",
        "\n",
        "\n",
        "\n"
      ],
      "metadata": {
        "id": "0RSpibSzq05k"
      }
    },
    {
      "cell_type": "code",
      "source": [
        "#define constants\n",
        "basis = \"sto-3g\"  #basis set\n",
        "multiplicity = 1  #spin multiplicity\n",
        "charge = 0        #total charge for the molecule\n",
        "distance = 0.7122\n",
        "geometry = [(\"H\",(0,0,0.356)),(\"H\", (0,0,-0.356))]  #xyz coordinates for atoms\n",
        "description = str(distance)  #description for the psi4 output file\n",
        "\n",
        "molecule = MolecularData(geometry, basis, multiplicity, charge, description)"
      ],
      "metadata": {
        "id": "ipdCk66nllaN"
      },
      "execution_count": 89,
      "outputs": []
    },
    {
      "cell_type": "markdown",
      "source": [
        "**Variable description**\n",
        "\n",
        "The meaning of the variables appearing in the above code is explained\n",
        "below.:\n",
        "\n",
        "\n",
        "Basis: basis function\n",
        "\n",
        "Set basis functions for representing molecular orbitals. There are various basis sets such as sto-3g, 6-31G.\n",
        "\n",
        "sto-3g (Slater Type Orbital - 3 Gaussian) used here is a basis function that approximates Slater type orbital with 3 Gaussians.\n",
        "\n",
        "Slater type orbital is an orbital that resembles the solution of a hydrogen atom. As a radial function, we use\n",
        "Rnl(r)=rn−lexp(−Z−sna0r),\n",
        "\n",
        "In angular direction, we use spherical harmonic function Ylm(θ,ϕ)\n",
        "\n",
        ".\n",
        "\n",
        "sto-3g uses a function which approximates this radial wavefunction Rnl(r)\n",
        "\n",
        "with three Gaussians.\n",
        "Multiplicity: spin multiplicity\n",
        "\n",
        "Since electrons have a spin of 1/2, the spin multiplicity is 2 when one electron exists in isolation. However, in the case of a hydrogen molecule, electrons form a singlet in the ground state, and the total spin is 0. Since spin 0 has only one state, the spin multiplicity is set to 1 in this case.\n",
        "Charge: total charge\n",
        "\n",
        "Input the total charge. When considering an ion, it becomes + or −.\n",
        "Geometry: nuclear configuration\n",
        "\n",
        "Specify atomic species and their coordinates in x,y,z.\n",
        "Description\n",
        "\n",
        "The output results calculated by PySCF are saved in the directory where the OpenFermion library is saved. This is a variable that determines the name of the file.\n"
      ],
      "metadata": {
        "id": "m9KlAKvtrLry"
      }
    },
    {
      "cell_type": "code",
      "source": [
        "molecule = run_pyscf(molecule,run_scf=1,run_fci=1)"
      ],
      "metadata": {
        "id": "oQVSUppplr2X"
      },
      "execution_count": 90,
      "outputs": []
    },
    {
      "cell_type": "markdown",
      "source": [
        "Calculation with PySCF\n",
        "\n",
        "Input the MolecularData set above to the function run_pyscf and perform quantum chemical calculations with PySCF. It should finish in a few seconds."
      ],
      "metadata": {
        "id": "t0h-zYSFrcqa"
      }
    },
    {
      "cell_type": "code",
      "source": [
        "print(\"HF energy: {} (Hartree)\".format(molecule.hf_energy))\n",
        "print(\"FCI energy: {} (Hartree)\".format(molecule.fci_energy))"
      ],
      "metadata": {
        "colab": {
          "base_uri": "https://localhost:8080/"
        },
        "id": "zOFUyRMxlw-A",
        "outputId": "11da36e0-57e8-4579-91ee-16e58a39c6ae"
      },
      "execution_count": 91,
      "outputs": [
        {
          "output_type": "stream",
          "name": "stdout",
          "text": [
            "HF energy: -1.117505831043514 (Hartree)\n",
            "FCI energy: -1.1368382276023525 (Hartree)\n"
          ]
        }
      ]
    },
    {
      "cell_type": "markdown",
      "source": [
        "HF & Full-CI energy\n",
        "\n",
        "Let’s take a look at the Hartree-Fock energy and Full-CI energy (=exact basis energy) calculated by PySCF. (1 Hartree = 27.2116 eV)"
      ],
      "metadata": {
        "id": "Vv_SGiZWsBg5"
      }
    },
    {
      "cell_type": "code",
      "source": [
        "print(molecule.one_body_integrals)\n"
      ],
      "metadata": {
        "colab": {
          "base_uri": "https://localhost:8080/"
        },
        "id": "pIteQibHl2SW",
        "outputId": "d20b4750-8608-4ddf-afdc-58a7016c9101"
      },
      "execution_count": 92,
      "outputs": [
        {
          "output_type": "stream",
          "name": "stdout",
          "text": [
            "[[-1.27041614e+00 -2.93108302e-16]\n",
            " [-1.83137879e-16 -4.56670371e-01]]\n"
          ]
        }
      ]
    },
    {
      "cell_type": "markdown",
      "source": [
        "One-Electron integral hij\n",
        "・Two-Electron integral hijkl\n",
        "\n",
        "\n",
        "Quantities such as the one-electron and two-electron integrals are also stored in the MolecularData class.\n",
        "\n"
      ],
      "metadata": {
        "id": "O8fT8GmUsIlz"
      }
    },
    {
      "cell_type": "code",
      "source": [
        "print(molecule.two_body_integrals)\n",
        "\n"
      ],
      "metadata": {
        "colab": {
          "base_uri": "https://localhost:8080/"
        },
        "id": "sse8aVsPl7eK",
        "outputId": "6304d1b5-5451-4f8f-bb53-6e5df6b70ec8"
      },
      "execution_count": 93,
      "outputs": [
        {
          "output_type": "stream",
          "name": "stdout",
          "text": [
            "[[[[ 6.80100025e-01  5.32491095e-17]\n",
            "   [-2.39592939e-17  1.79657685e-01]]\n",
            "\n",
            "  [[-2.39592939e-17  1.79657685e-01]\n",
            "   [ 6.68612516e-01  4.20873114e-17]]]\n",
            "\n",
            "\n",
            " [[[ 5.32491095e-17  6.68612516e-01]\n",
            "   [ 1.79657685e-01  2.45052321e-16]]\n",
            "\n",
            "  [[ 1.79657685e-01  2.45052321e-16]\n",
            "   [ 4.20873114e-17  7.02850976e-01]]]]\n"
          ]
        }
      ]
    },
    {
      "cell_type": "markdown",
      "source": [
        "\n",
        "Hamiltonian in second quantized form\n",
        "\n",
        "OpenFermion computes the Hamiltonian of the second quantized form from these integrals.\n",
        "H=∑ihijc†icj+∑ijklhijklc†ic†jckcl\n",
        "\n",
        "(For the second quantization, see e.g. reference [2]). The Hamiltonian can be calculated by calling the get_molecular_hamiltonian method.\n",
        "\n",
        "For example, (3,1) represents c†3\n",
        ", while (1,0) is used to denote c1 ."
      ],
      "metadata": {
        "id": "S9KLnkixsZtD"
      }
    },
    {
      "cell_type": "code",
      "source": [
        "print(molecule.get_molecular_hamiltonian())"
      ],
      "metadata": {
        "colab": {
          "base_uri": "https://localhost:8080/"
        },
        "id": "ta3yO-vCl_dU",
        "outputId": "500daca4-7fe3-44bf-e1ff-df9225ed39e7"
      },
      "execution_count": 94,
      "outputs": [
        {
          "output_type": "stream",
          "name": "stdout",
          "text": [
            "() 0.7432264198314608\n",
            "((0, 1), (0, 0)) -1.2704161378550272\n",
            "((1, 1), (1, 0)) -1.2704161378550272\n",
            "((2, 1), (2, 0)) -0.45667037078973216\n",
            "((3, 1), (3, 0)) -0.45667037078973216\n",
            "((0, 1), (0, 1), (0, 0), (0, 0)) 0.34005001241754007\n",
            "((0, 1), (0, 1), (2, 0), (2, 0)) 0.08982884240313226\n",
            "((0, 1), (1, 1), (1, 0), (0, 0)) 0.34005001241754007\n",
            "((0, 1), (1, 1), (3, 0), (2, 0)) 0.08982884240313226\n",
            "((0, 1), (2, 1), (0, 0), (2, 0)) 0.08982884240313226\n",
            "((0, 1), (2, 1), (2, 0), (0, 0)) 0.3343062582298406\n",
            "((0, 1), (3, 1), (1, 0), (2, 0)) 0.08982884240313226\n",
            "((0, 1), (3, 1), (3, 0), (0, 0)) 0.3343062582298406\n",
            "((1, 1), (0, 1), (0, 0), (1, 0)) 0.34005001241754007\n",
            "((1, 1), (0, 1), (2, 0), (3, 0)) 0.08982884240313226\n",
            "((1, 1), (1, 1), (1, 0), (1, 0)) 0.34005001241754007\n",
            "((1, 1), (1, 1), (3, 0), (3, 0)) 0.08982884240313226\n",
            "((1, 1), (2, 1), (0, 0), (3, 0)) 0.08982884240313226\n",
            "((1, 1), (2, 1), (2, 0), (1, 0)) 0.3343062582298406\n",
            "((1, 1), (3, 1), (1, 0), (3, 0)) 0.08982884240313226\n",
            "((1, 1), (3, 1), (3, 0), (1, 0)) 0.3343062582298406\n",
            "((2, 1), (0, 1), (0, 0), (2, 0)) 0.3343062582298405\n",
            "((2, 1), (0, 1), (2, 0), (0, 0)) 0.08982884240313226\n",
            "((2, 1), (1, 1), (1, 0), (2, 0)) 0.3343062582298405\n",
            "((2, 1), (1, 1), (3, 0), (0, 0)) 0.08982884240313226\n",
            "((2, 1), (2, 1), (0, 0), (0, 0)) 0.08982884240313226\n",
            "((2, 1), (2, 1), (2, 0), (2, 0)) 0.35142548823956565\n",
            "((2, 1), (3, 1), (1, 0), (0, 0)) 0.08982884240313226\n",
            "((2, 1), (3, 1), (3, 0), (2, 0)) 0.35142548823956565\n",
            "((3, 1), (0, 1), (0, 0), (3, 0)) 0.3343062582298405\n",
            "((3, 1), (0, 1), (2, 0), (1, 0)) 0.08982884240313226\n",
            "((3, 1), (1, 1), (1, 0), (3, 0)) 0.3343062582298405\n",
            "((3, 1), (1, 1), (3, 0), (1, 0)) 0.08982884240313226\n",
            "((3, 1), (2, 1), (0, 0), (1, 0)) 0.08982884240313226\n",
            "((3, 1), (2, 1), (2, 0), (3, 0)) 0.35142548823956565\n",
            "((3, 1), (3, 1), (1, 0), (1, 0)) 0.08982884240313226\n",
            "((3, 1), (3, 1), (3, 0), (3, 0)) 0.35142548823956565\n",
            "\n"
          ]
        }
      ]
    },
    {
      "cell_type": "markdown",
      "source": [
        "Convert to tractable operators for quantum computers\n",
        "\n",
        "The easiest to handle on a quantum computer are the Pauli operators I,X,Y,Z\n",
        "\n",
        "and their tensor products. Therefore, in order to treat the Hamiltonian of ordinary electrons with a quantum computer, convert the Hamiltonian of the second quantization form\n",
        "Hfermion=∑ihijc†icj+∑ijklhijklc†ic†jckcl\n",
        "\n",
        "to\n",
        "Hqubit=∑P∈{I,X,Y,Z}⊗nhPP\n",
        "\n",
        "Various transformation methods have been proposed, but here we use the simplest one, called the Jordan-Wigner transformation. In the Jordan-Wigner transformation, the molecular orbital i\n",
        "corresponds to the i-th qubit. The state that the molecular orbital is occupied by an electron is represented with |1⟩, otherwise |0⟩\n",
        "\n",
        ".\n",
        "\n",
        "Under such a convention, constructing the Pauli operator so as to satisfy the anticommutation relation of the following creation-annihilation operator of fermion,\n",
        "{c†i,c†j}=c†ic†j+c†jc†i=0,{ci,cj}=0,{c†i,cj}=δij\n",
        "\n",
        "we obtain\n",
        "a†j↔Xj−iYj2⊗Zj−1⊗Zj−2⋯Z1\n",
        "\n",
        "For transformation methods other than the Jordan-Wigner transformation, see [2][3].\n",
        "\n",
        "Jordan-Wigner transformation is implemented in OpenFermion. By passing FermionOperator to jordan_wigner function, it will return QubitOperator corresponding to the Jordan-Wigner transformation of that operator. Below, the FermionOperator is created from the MolecularData of the hydrogen molecule created above, and the Jordan-Wigner transform is used to convert the Hamiltonian of the hydrogen molecule into a form that can be easily handled by a quantum computer."
      ],
      "metadata": {
        "id": "npdbHne5smJb"
      }
    },
    {
      "cell_type": "code",
      "source": [
        "jw_hamiltonian = jordan_wigner(get_fermion_operator(molecule.get_molecular_hamiltonian()))\n",
        "print(jw_hamiltonian)"
      ],
      "metadata": {
        "colab": {
          "base_uri": "https://localhost:8080/"
        },
        "id": "ZfhSrUuEmE35",
        "outputId": "e15c5ac4-afeb-40fb-c5ef-363ef52ca868"
      },
      "execution_count": 95,
      "outputs": [
        {
          "output_type": "stream",
          "name": "stdout",
          "text": [
            "(-0.05933866442819702+0j) [] +\n",
            "(-0.04491442120156613+0j) [X0 X1 Y2 Y3] +\n",
            "(0.04491442120156613+0j) [X0 Y1 Y2 X3] +\n",
            "(0.04491442120156613+0j) [Y0 X1 X2 Y3] +\n",
            "(-0.04491442120156613+0j) [Y0 Y1 X2 X3] +\n",
            "(0.17579122569046915+0j) [Z0] +\n",
            "(0.17002500620877004+0j) [Z0 Z1] +\n",
            "(0.12223870791335414+0j) [Z0 Z2] +\n",
            "(0.16715312911492028+0j) [Z0 Z3] +\n",
            "(0.1757912256904691+0j) [Z1] +\n",
            "(0.16715312911492028+0j) [Z1 Z2] +\n",
            "(0.12223870791335414+0j) [Z1 Z3] +\n",
            "(-0.2367693957531912+0j) [Z2] +\n",
            "(0.17571274411978283+0j) [Z2 Z3] +\n",
            "(-0.23676939575319117+0j) [Z3]\n"
          ]
        }
      ]
    },
    {
      "cell_type": "markdown",
      "source": [
        "Let’s calculate the Hartree-Fock (HF) energy from this Hamiltonian. In the Jordan-Wigner transform, the qubit |0⟩,|1⟩ and the orbital occupancy numbers correspond one-to-one. Therefore, in order to calculate the HF energy, calculate the expected value for |1100⟩. Because there are 2 electrons, the state is filled with 1 twice from the bottom."
      ],
      "metadata": {
        "id": "E6rw1smOs3PN"
      }
    },
    {
      "cell_type": "code",
      "source": [
        "# function for computing the tensor product\n",
        "def kron_N(*ops):\n",
        "    tmp = ops[0]\n",
        "    for op in ops[1:]:\n",
        "        tmp = np.kron(tmp,op)\n",
        "    return tmp\n",
        "\n",
        "bra0 = np.array([[1,0]])\n",
        "bra1 = np.array([[0,1]])\n",
        "HFbra = kron_N(bra1, bra1, bra0, bra0)\n",
        "HFket = HFbra.T\n",
        "print(HFbra)\n",
        "jw_matrix = get_sparse_operator(jw_hamiltonian)\n",
        "print(np.real(HFbra.dot(jw_matrix.dot(HFket))), molecule.hf_energy)\n"
      ],
      "metadata": {
        "colab": {
          "base_uri": "https://localhost:8080/"
        },
        "id": "hUp0X3oJmKx2",
        "outputId": "aa5ffaab-4f20-4bcb-8e96-2af946edee03"
      },
      "execution_count": 96,
      "outputs": [
        {
          "output_type": "stream",
          "name": "stdout",
          "text": [
            "[[0 0 0 0 0 0 0 0 0 0 0 0 1 0 0 0]]\n",
            "[[-1.11750583]] -1.117505831043514\n"
          ]
        }
      ]
    },
    {
      "cell_type": "markdown",
      "source": [
        "It can be confirmed that it almost matches the calculation of PySCF.\n",
        "\n",
        "Now let’s diagonalize the Hamiltonian and see that the result agrees with the Full-CI (exact solution) energy."
      ],
      "metadata": {
        "id": "V1l8pZdHtAoA"
      }
    },
    {
      "cell_type": "code",
      "source": [
        "eigenenergies, eigenvecs = np.linalg.eigh(jw_matrix.toarray())\n",
        "print(eigenenergies[0], molecule.fci_energy)\n"
      ],
      "metadata": {
        "colab": {
          "base_uri": "https://localhost:8080/"
        },
        "id": "AFo3oiaxmRzd",
        "outputId": "53d9a9eb-51c4-4bc0-f9ad-8ddaef51cefb"
      },
      "execution_count": 97,
      "outputs": [
        {
          "output_type": "stream",
          "name": "stdout",
          "text": [
            "-1.1368382276023525 -1.1368382276023525\n"
          ]
        }
      ]
    },
    {
      "cell_type": "markdown",
      "source": [
        "It can be confirmed that this also almost matches. The ground state wavefunction ∣∣ψg⟩ is"
      ],
      "metadata": {
        "id": "S4cP0eQ7tDTi"
      }
    },
    {
      "cell_type": "code",
      "source": [
        "print(eigenvecs[:,0])\n",
        "\n"
      ],
      "metadata": {
        "colab": {
          "base_uri": "https://localhost:8080/"
        },
        "id": "Qu4MdbFHmXMG",
        "outputId": "e65cf31f-50c1-484c-8acd-87259df75c6b"
      },
      "execution_count": 98,
      "outputs": [
        {
          "output_type": "stream",
          "name": "stdout",
          "text": [
            "[ 0.        +0.j  0.        +0.j  0.        +0.j  0.1069892 +0.j\n",
            "  0.        +0.j  0.        +0.j  0.        +0.j  0.        +0.j\n",
            "  0.        +0.j  0.        +0.j  0.        +0.j  0.        +0.j\n",
            " -0.99426018+0.j  0.        +0.j  0.        +0.j  0.        +0.j]\n"
          ]
        }
      ]
    },
    {
      "cell_type": "markdown",
      "source": [
        "∣∣ψg⟩≈−0.995|1100⟩+0.0955|0011⟩. It turns out that the Hartree-Fock solution |1100⟩ is slightly combined with the two-electron excited state |0011⟩."
      ],
      "metadata": {
        "id": "Vl86yu_ktQso"
      }
    },
    {
      "cell_type": "markdown",
      "source": [
        "6-2. Implementation of variational quantum eigensolver (VQE) using Qulacs\n",
        "\n",
        "In this section, we show an example of running the variational quantum eigensolver (VQE) on a simulator using Qulacs for a quantum chemical Hamiltonian obtained using OpenFermion and PySCF, and searching the ground state.\n",
        "\n",
        "requirements\n",
        "\n",
        "    qulacs\n",
        "\n",
        "    openfermion\n",
        "\n",
        "    openfermion-pyscf\n",
        "\n",
        "    pyscf\n",
        "\n",
        "    scipy\n",
        "\n",
        "    numpy\n",
        "\n",
        "Install and Import of required packages\n",
        "\n"
      ],
      "metadata": {
        "id": "CQY4y1att-G2"
      }
    },
    {
      "cell_type": "code",
      "source": [
        "## Run if required libraries are not installed\n",
        "## If you run on Google Colaboratory, igore the warning 'You must restart the runtime in order to use newly installed versions.'\n",
        "## If you restart runtime, calculation may crash.\n",
        "!pip install qulacs pyscf openfermion openfermionpyscf\n",
        "\n",
        "## Run only in Google Colaboratory or (Linux or Mac) jupyter notebook environment\n",
        "## Qulacs errors will be output normally.\n",
        "!pip3 install wurlitzer\n",
        "%load_ext wurlitzer"
      ],
      "metadata": {
        "colab": {
          "base_uri": "https://localhost:8080/"
        },
        "id": "DESgXiMeuAp3",
        "outputId": "c62e6f76-8c09-44c5-e16e-261c9bdcc913"
      },
      "execution_count": 99,
      "outputs": [
        {
          "output_type": "stream",
          "name": "stdout",
          "text": [
            "Requirement already satisfied: qulacs in /usr/local/lib/python3.10/dist-packages (0.6.11)\n",
            "Requirement already satisfied: pyscf in /usr/local/lib/python3.10/dist-packages (2.7.0)\n",
            "Requirement already satisfied: openfermion in /usr/local/lib/python3.10/dist-packages (1.6.1)\n",
            "Requirement already satisfied: openfermionpyscf in /usr/local/lib/python3.10/dist-packages (0.5)\n",
            "Requirement already satisfied: numpy in /usr/local/lib/python3.10/dist-packages (from qulacs) (1.26.4)\n",
            "Requirement already satisfied: scipy in /usr/local/lib/python3.10/dist-packages (from qulacs) (1.13.1)\n",
            "Requirement already satisfied: h5py>=2.7 in /usr/local/lib/python3.10/dist-packages (from pyscf) (3.12.1)\n",
            "Requirement already satisfied: setuptools in /usr/local/lib/python3.10/dist-packages (from pyscf) (75.1.0)\n",
            "Requirement already satisfied: cirq-core~=1.0 in /usr/local/lib/python3.10/dist-packages (from openfermion) (1.4.1)\n",
            "Requirement already satisfied: deprecation in /usr/local/lib/python3.10/dist-packages (from openfermion) (2.1.0)\n",
            "Requirement already satisfied: networkx in /usr/local/lib/python3.10/dist-packages (from openfermion) (3.4.2)\n",
            "Requirement already satisfied: pubchempy in /usr/local/lib/python3.10/dist-packages (from openfermion) (1.0.4)\n",
            "Requirement already satisfied: requests>=2.18 in /usr/local/lib/python3.10/dist-packages (from openfermion) (2.32.3)\n",
            "Requirement already satisfied: sympy in /usr/local/lib/python3.10/dist-packages (from openfermion) (1.13.1)\n",
            "Requirement already satisfied: pytest in /usr/local/lib/python3.10/dist-packages (from openfermionpyscf) (8.3.4)\n",
            "Requirement already satisfied: attrs>=21.3.0 in /usr/local/lib/python3.10/dist-packages (from cirq-core~=1.0->openfermion) (24.3.0)\n",
            "Requirement already satisfied: duet>=0.2.8 in /usr/local/lib/python3.10/dist-packages (from cirq-core~=1.0->openfermion) (0.2.9)\n",
            "Requirement already satisfied: matplotlib~=3.0 in /usr/local/lib/python3.10/dist-packages (from cirq-core~=1.0->openfermion) (3.10.0)\n",
            "Requirement already satisfied: pandas in /usr/local/lib/python3.10/dist-packages (from cirq-core~=1.0->openfermion) (2.2.2)\n",
            "Requirement already satisfied: sortedcontainers~=2.0 in /usr/local/lib/python3.10/dist-packages (from cirq-core~=1.0->openfermion) (2.4.0)\n",
            "Requirement already satisfied: typing-extensions>=4.2 in /usr/local/lib/python3.10/dist-packages (from cirq-core~=1.0->openfermion) (4.12.2)\n",
            "Requirement already satisfied: tqdm in /usr/local/lib/python3.10/dist-packages (from cirq-core~=1.0->openfermion) (4.67.1)\n",
            "Requirement already satisfied: charset-normalizer<4,>=2 in /usr/local/lib/python3.10/dist-packages (from requests>=2.18->openfermion) (3.4.1)\n",
            "Requirement already satisfied: idna<4,>=2.5 in /usr/local/lib/python3.10/dist-packages (from requests>=2.18->openfermion) (3.10)\n",
            "Requirement already satisfied: urllib3<3,>=1.21.1 in /usr/local/lib/python3.10/dist-packages (from requests>=2.18->openfermion) (2.3.0)\n",
            "Requirement already satisfied: certifi>=2017.4.17 in /usr/local/lib/python3.10/dist-packages (from requests>=2.18->openfermion) (2024.12.14)\n",
            "Requirement already satisfied: packaging in /usr/local/lib/python3.10/dist-packages (from deprecation->openfermion) (24.2)\n",
            "Requirement already satisfied: exceptiongroup>=1.0.0rc8 in /usr/local/lib/python3.10/dist-packages (from pytest->openfermionpyscf) (1.2.2)\n",
            "Requirement already satisfied: iniconfig in /usr/local/lib/python3.10/dist-packages (from pytest->openfermionpyscf) (2.0.0)\n",
            "Requirement already satisfied: pluggy<2,>=1.5 in /usr/local/lib/python3.10/dist-packages (from pytest->openfermionpyscf) (1.5.0)\n",
            "Requirement already satisfied: tomli>=1 in /usr/local/lib/python3.10/dist-packages (from pytest->openfermionpyscf) (2.2.1)\n",
            "Requirement already satisfied: mpmath<1.4,>=1.1.0 in /usr/local/lib/python3.10/dist-packages (from sympy->openfermion) (1.3.0)\n",
            "Requirement already satisfied: contourpy>=1.0.1 in /usr/local/lib/python3.10/dist-packages (from matplotlib~=3.0->cirq-core~=1.0->openfermion) (1.3.1)\n",
            "Requirement already satisfied: cycler>=0.10 in /usr/local/lib/python3.10/dist-packages (from matplotlib~=3.0->cirq-core~=1.0->openfermion) (0.12.1)\n",
            "Requirement already satisfied: fonttools>=4.22.0 in /usr/local/lib/python3.10/dist-packages (from matplotlib~=3.0->cirq-core~=1.0->openfermion) (4.55.3)\n",
            "Requirement already satisfied: kiwisolver>=1.3.1 in /usr/local/lib/python3.10/dist-packages (from matplotlib~=3.0->cirq-core~=1.0->openfermion) (1.4.8)\n",
            "Requirement already satisfied: pillow>=8 in /usr/local/lib/python3.10/dist-packages (from matplotlib~=3.0->cirq-core~=1.0->openfermion) (11.1.0)\n",
            "Requirement already satisfied: pyparsing>=2.3.1 in /usr/local/lib/python3.10/dist-packages (from matplotlib~=3.0->cirq-core~=1.0->openfermion) (3.2.1)\n",
            "Requirement already satisfied: python-dateutil>=2.7 in /usr/local/lib/python3.10/dist-packages (from matplotlib~=3.0->cirq-core~=1.0->openfermion) (2.8.2)\n",
            "Requirement already satisfied: pytz>=2020.1 in /usr/local/lib/python3.10/dist-packages (from pandas->cirq-core~=1.0->openfermion) (2024.2)\n",
            "Requirement already satisfied: tzdata>=2022.7 in /usr/local/lib/python3.10/dist-packages (from pandas->cirq-core~=1.0->openfermion) (2024.2)\n",
            "Requirement already satisfied: six>=1.5 in /usr/local/lib/python3.10/dist-packages (from python-dateutil>=2.7->matplotlib~=3.0->cirq-core~=1.0->openfermion) (1.17.0)\n",
            "Requirement already satisfied: wurlitzer in /usr/local/lib/python3.10/dist-packages (3.1.1)\n",
            "The wurlitzer extension is already loaded. To reload it, use:\n",
            "  %reload_ext wurlitzer\n"
          ]
        }
      ]
    },
    {
      "cell_type": "code",
      "source": [
        "import qulacs\n",
        "from openfermion.transforms import get_fermion_operator, jordan_wigner\n",
        "from openfermion.linalg import get_sparse_operator #If you have an error, please update openfermion later than version 1.0.0\n",
        "from openfermion.chem import MolecularData\n",
        "from openfermionpyscf import run_pyscf\n",
        "from scipy.optimize import minimize\n",
        "from pyscf import fci\n",
        "import numpy as np\n",
        "import matplotlib.pyplot as plt"
      ],
      "metadata": {
        "id": "vmg7Gy7XuSjQ"
      },
      "execution_count": 100,
      "outputs": []
    },
    {
      "cell_type": "markdown",
      "source": [
        "Creation of Hamiltonian\n",
        "\n",
        "Using the same procedure as in the previous section, Hamiltonian is calculated by PySCF ."
      ],
      "metadata": {
        "id": "e71rTUciuUut"
      }
    },
    {
      "cell_type": "code",
      "source": [
        "basis = \"sto-3g\"\n",
        "multiplicity = 1\n",
        "charge = 0\n",
        "distance  = 0.7122\n",
        "geometry = [[\"H\", [0,0,0.356]],[\"H\", [0,0,-0.356]]]\n",
        "description  = str(distance)\n",
        "molecule = MolecularData(geometry, basis, multiplicity, charge, description)\n",
        "molecule = run_pyscf(molecule,run_scf=1,run_fci=1)\n",
        "n_qubit = molecule.n_qubits\n",
        "n_electron = molecule.n_electrons\n",
        "fermionic_hamiltonian = get_fermion_operator(molecule.get_molecular_hamiltonian())\n",
        "jw_hamiltonian = jordan_wigner(fermionic_hamiltonian)\n"
      ],
      "metadata": {
        "id": "Z4efKAs9uZxy"
      },
      "execution_count": 102,
      "outputs": []
    },
    {
      "cell_type": "markdown",
      "source": [
        "Convert Hamiltonian into qulacs Hamiltonian\n",
        "\n",
        "In Qulacs, observable like Hamiltonian is treated with Observable class. There is a function to convert OpenFermion Hamiltonian into Qulacs Observable named create_observable_from_openfermion_text. Lets’s use this."
      ],
      "metadata": {
        "id": "Tg-e1eyiuguy"
      }
    },
    {
      "cell_type": "code",
      "source": [
        "from qulacs import Observable\n",
        "from qulacs.observable import create_observable_from_openfermion_text\n",
        "qulacs_hamiltonian = create_observable_from_openfermion_text(str(jw_hamiltonian))\n"
      ],
      "metadata": {
        "id": "oT2v3p4hunG_"
      },
      "execution_count": 103,
      "outputs": []
    },
    {
      "cell_type": "markdown",
      "source": [
        "compose ansatz\n",
        "\n",
        "Here, we compose a quantum circuit on Qulacs. The quantum circuits were modeled after those used in experiments with superconducting qubits (A. Kandala et. al. , “Hardware-efficient variational quantum eigensolver for small molecules and quantum magnets“, Nature 549, 242–246)."
      ],
      "metadata": {
        "id": "hsc-fAgPu0uM"
      }
    },
    {
      "cell_type": "code",
      "source": [
        "from qulacs import QuantumState, QuantumCircuit\n",
        "from qulacs.gate import CZ, RY, RZ, merge\n",
        "\n",
        "depth = n_qubit"
      ],
      "metadata": {
        "id": "8euzVkCwu7Wx"
      },
      "execution_count": 104,
      "outputs": []
    },
    {
      "cell_type": "code",
      "source": [
        "def he_ansatz_circuit(n_qubit, depth, theta_list):\n",
        "    \"\"\"he_ansatz_circuit\n",
        "    Returns hardware efficient ansatz circuit.\n",
        "\n",
        "    Args:\n",
        "        n_qubit (:class:`int`):\n",
        "            the number of qubit used (equivalent to the number of fermionic modes)\n",
        "        depth (:class:`int`):\n",
        "            depth of the circuit.\n",
        "        theta_list (:class:`numpy.ndarray`):\n",
        "            rotation angles.\n",
        "    Returns:\n",
        "        :class:`qulacs.QuantumCircuit`\n",
        "    \"\"\"\n",
        "    circuit = QuantumCircuit(n_qubit)\n",
        "    for d in range(depth):\n",
        "        for i in range(n_qubit):\n",
        "            circuit.add_gate(merge(RY(i, theta_list[2*i+2*n_qubit*d]), RZ(i, theta_list[2*i+1+2*n_qubit*d])))\n",
        "        for i in range(n_qubit//2):\n",
        "            circuit.add_gate(CZ(2*i, 2*i+1))\n",
        "        for i in range(n_qubit//2-1):\n",
        "            circuit.add_gate(CZ(2*i+1, 2*i+2))\n",
        "    for i in range(n_qubit):\n",
        "        circuit.add_gate(merge(RY(i, theta_list[2*i+2*n_qubit*depth]), RZ(i, theta_list[2*i+1+2*n_qubit*depth])))\n",
        "\n",
        "    return circuit"
      ],
      "metadata": {
        "id": "dek5QqViu86r"
      },
      "execution_count": 105,
      "outputs": []
    },
    {
      "cell_type": "markdown",
      "source": [
        "Define VQE cost function\n",
        "\n",
        "As explained in chapter 5-1, VQE obtains an approximate ground state by minimizing the following expectation of Hamiltonian of a state |ψ(θ)⟩=U(θ)|0⟩ which is output from quantum circuit U(θ)\n",
        "\n",
        "with a parameter .\n",
        "⟨H(θ)⟩=⟨ψ(θ)|H|ψ(θ)⟩"
      ],
      "metadata": {
        "id": "j4jdAPDLvELo"
      }
    },
    {
      "cell_type": "code",
      "source": [
        "def cost(theta_list):\n",
        "    state = QuantumState(n_qubit) #prepare |00000>\n",
        "    circuit = he_ansatz_circuit(n_qubit, depth, theta_list) #create a quantum circuit\n",
        "    circuit.update_quantum_state(state) #apply to a quantum circuit\n",
        "    return qulacs_hamiltonian.get_expectation_value(state) #calculate the expectation of a Hamiltonian\n"
      ],
      "metadata": {
        "id": "u-CsnJ_TvKDs"
      },
      "execution_count": 106,
      "outputs": []
    },
    {
      "cell_type": "markdown",
      "source": [
        "Execute VQE\n",
        "\n",
        "Now that we’re ready, let’s run VQE. For optimization, the BFGS method implemented in scipy is used, and the initial parameters are randomly selected. It should finish in tens of seconds."
      ],
      "metadata": {
        "id": "yccIXEZXvZwf"
      }
    },
    {
      "cell_type": "code",
      "source": [
        "cost_history = []\n",
        "init_theta_list = np.random.random(2*n_qubit*(depth+1))*1e-1\n",
        "cost_history.append(cost(init_theta_list))\n",
        "method = \"BFGS\"\n",
        "options = {\"disp\": True, \"maxiter\": 50, \"gtol\": 1e-6}\n",
        "opt = minimize(cost, init_theta_list,\n",
        "               method=method,\n",
        "               callback=lambda x: cost_history.append(cost(x)))"
      ],
      "metadata": {
        "id": "RmXqdBYiviwg"
      },
      "execution_count": 107,
      "outputs": []
    },
    {
      "cell_type": "markdown",
      "source": [
        "               \n",
        "\n",
        "Plotting the execution result, we can see that it has converged to the correct solution."
      ],
      "metadata": {
        "id": "yR4o3Yy_vldt"
      }
    },
    {
      "cell_type": "code",
      "source": [
        "plt.rcParams[\"font.size\"] = 18\n",
        "plt.plot(cost_history, color=\"red\", label=\"VQE\")\n",
        "plt.plot(range(len(cost_history)), [molecule.fci_energy]*len(cost_history), linestyle=\"dashed\", color=\"black\", label=\"Exact Solution\")\n",
        "plt.xlabel(\"Iteration\")\n",
        "plt.ylabel(\"Energy expectation value\")\n",
        "plt.legend()\n",
        "plt.show()"
      ],
      "metadata": {
        "colab": {
          "base_uri": "https://localhost:8080/",
          "height": 469
        },
        "id": "vPfZDPW-vtH3",
        "outputId": "ebb73eb1-153c-41b8-9064-32207ef4310c"
      },
      "execution_count": 108,
      "outputs": [
        {
          "output_type": "display_data",
          "data": {
            "text/plain": [
              "<Figure size 640x480 with 1 Axes>"
            ],
            "image/png": "[encoded data removed]"
          },
          "metadata": {}
        }
      ]
    },
    {
      "cell_type": "code",
      "source": [
        "import numpy as np\n",
        "import matplotlib.pyplot as plt\n",
        "from openfermion.chem import MolecularData\n",
        "from openfermionpyscf import run_pyscf\n",
        "from openfermion.transforms import jordan_wigner\n",
        "from qulacs import QuantumState, Observable, QuantumCircuit\n",
        "from qulacs.gate import RY, RZ, CNOT\n",
        "from scipy.optimize import minimize\n",
        "\n",
        "# Constants\n",
        "basis = \"sto-3g\"  # Basis set\n",
        "multiplicity = 1  # Spin multiplicity\n",
        "charge = 0        # Total charge for the molecule\n",
        "\n",
        "# Function to create the molecule and compute energy\n",
        "def compute_energy(bond_length):\n",
        "    distance=0.7122\n",
        "    geometry = [[\"H\", [0, 0, 0.356]], [\"H\", [0, 0, -0.356]]]\n",
        "    description =str(distance)\n",
        "    molecule = MolecularData(geometry, basis, multiplicity, charge, description)\n",
        "\n",
        "    # Perform quantum chemistry calculations\n",
        "    molecule = run_pyscf(molecule, run_scf=True)\n",
        "\n",
        "    # Get the molecular Hamiltonian and convert to qubit representation\n",
        "    fermionic_hamiltonian = molecule.get_molecular_hamiltonian()\n",
        "    qubit_hamiltonian = jordan_wigner(fermionic_hamiltonian)\n",
        "    n_qubits = molecule.n_qubits\n",
        "\n",
        "    # Convert to Qulacs Observable\n",
        "    observable = Observable(n_qubits)\n",
        "    for term, coeff in qubit_hamiltonian.terms.items():\n",
        "        pauli_string = \" \".join([f\"{p[1]} {p[0]}\" for p in term])\n",
        "        observable.add_operator(coeff, pauli_string)\n",
        "\n",
        "    # Define ansatz\n",
        "    #def create_ansatz(theta):\n",
        "        #circuit = QuantumCircuit(n_qubits)\n",
        "        #circuit.add_gate(RY(0, theta[0]))\n",
        "        #circuit.add_gate(RY(1, theta[1]))\n",
        "        #circuit.add_gate(CNOT(0, 1))\n",
        "        #circuit.add_gate(RZ(1, theta[2]))\n",
        "        #return circuit\n",
        "        def he_ansatz_circuit(n_qubit, depth, theta_list):\n",
        "         circuit = QuantumCircuit(n_qubit)\n",
        "    for d in range(depth):\n",
        "        for i in range(n_qubit):\n",
        "            circuit.add_gate(merge(RY(i, theta_list[2*i+2*n_qubit*d]), RZ(i, theta_list[2*i+1+2*n_qubit*d])))\n",
        "        for i in range(n_qubit//2):\n",
        "            circuit.add_gate(CZ(2*i, 2*i+1))\n",
        "        for i in range(n_qubit//2-1):\n",
        "            circuit.add_gate(CZ(2*i+1, 2*i+2))\n",
        "    for i in range(n_qubit):\n",
        "        circuit.add_gate(merge(RY(i, theta_list[2*i+2*n_qubit*depth]), RZ(i, theta_list[2*i+1+2*n_qubit*depth])))\n",
        "\n",
        "    return circuit\n",
        "      def create_ansatz(theta_list):\n",
        "        circuit = QuantumCircuit(n_qubits)\n",
        "        for d in range(depth):\n",
        "            for i in range(n_qubits):\n",
        "                circuit.add_gate(merge(RY(i, theta_list[2*i+2*n_qubits*d]), RZ(i, theta_list[2*i+1+2*n_qubits*d])))\n",
        "            for i in range(n_qubits//2):\n",
        "                circuit.add_gate(CZ(2*i, 2*i+1))\n",
        "            for i in range(n_qubits//2-1):\n",
        "                circuit.add_gate(CZ(2*i+1, 2*i+2))\n",
        "        for i in range(n_qubits):\n",
        "            circuit.add_gate(merge(RY(i, theta_list[2*i+2*n_qubits*depth]), RZ(i, theta_list[2*i+1+2*n_qubits*depth])))\n",
        "        return circuit\n",
        "\n",
        "\n",
        "    # Define cost function\n",
        "    def vqe_cost_function(theta):\n",
        "        state = QuantumState(n_qubits)\n",
        "        circuit = create_ansatz(theta)\n",
        "        circuit.update_quantum_state(state)\n",
        "        return observable.get_expectation_value(state)\n",
        "\n",
        "    # Minimize energy using VQE\n",
        "    initial_theta = np.random.rand(3)\n",
        "    result = minimize(vqe_cost_function, initial_theta, method=\"COBYLA\")\n",
        "    total_energy = result.fun\n",
        "    return total_energy, molecule.nuclear_repulsion\n",
        "\n",
        "# Loop over various bond lengths\n",
        "bond_lengths = np.linspace(0.5, 2.0, 20)  # Bond lengths from 0.5 to 2.0 Angstroms\n",
        "energies = []\n",
        "\n",
        "for bond_length in bond_lengths:\n",
        "    total_energy, _ = compute_energy(bond_length)\n",
        "    energies.append(total_energy)\n",
        "    print(f\"Bond Length: {bond_length:.2f} Å, Total Energy: {total_energy:.6f} Hartree\")\n",
        "\n",
        "# Plot the energy expectation values vs bond lengths\n",
        "plt.figure(figsize=(8, 6))\n",
        "plt.plot(bond_lengths, energies, marker='o', linestyle='-', color='blue')\n",
        "plt.title(\"Energy Expectation Value vs Bond Length\", fontsize=16)\n",
        "plt.xlabel(\"Bond Length (Å)\", fontsize=14)\n",
        "plt.ylabel(\"Energy Expectation Value (Hartree)\", fontsize=14)\n",
        "plt.grid()\n",
        "plt.show()\n"
      ],
      "metadata": {
        "colab": {
          "base_uri": "https://localhost:8080/",
          "height": 332
        },
        "id": "bfdC81eLS3ik",
        "outputId": "dcb9a183-a705-4511-b247-bf4b0ffa9e67"
      },
      "execution_count": 118,
      "outputs": [
        {
          "output_type": "error",
          "ename": "NameError",
          "evalue": "name 'circuit' is not defined",
          "traceback": [
            "\u001b[0;31m---------------------------------------------------------------------------\u001b[0m",
            "\u001b[0;31mNameError\u001b[0m                                 Traceback (most recent call last)",
            "\u001b[0;32m<ipython-input-118-8b534e943cc9>\u001b[0m in \u001b[0;36m<cell line: 76>\u001b[0;34m()\u001b[0m\n\u001b[1;32m     75\u001b[0m \u001b[0;34m\u001b[0m\u001b[0m\n\u001b[1;32m     76\u001b[0m \u001b[0;32mfor\u001b[0m \u001b[0mbond_length\u001b[0m \u001b[0;32min\u001b[0m \u001b[0mbond_lengths\u001b[0m\u001b[0;34m:\u001b[0m\u001b[0;34m\u001b[0m\u001b[0;34m\u001b[0m\u001b[0m\n\u001b[0;32m---> 77\u001b[0;31m     \u001b[0mtotal_energy\u001b[0m\u001b[0;34m,\u001b[0m \u001b[0m_\u001b[0m \u001b[0;34m=\u001b[0m \u001b[0mcompute_energy\u001b[0m\u001b[0;34m(\u001b[0m\u001b[0mbond_length\u001b[0m\u001b[0;34m)\u001b[0m\u001b[0;34m\u001b[0m\u001b[0;34m\u001b[0m\u001b[0m\n\u001b[0m\u001b[1;32m     78\u001b[0m     \u001b[0menergies\u001b[0m\u001b[0;34m.\u001b[0m\u001b[0mappend\u001b[0m\u001b[0;34m(\u001b[0m\u001b[0mtotal_energy\u001b[0m\u001b[0;34m)\u001b[0m\u001b[0;34m\u001b[0m\u001b[0;34m\u001b[0m\u001b[0m\n\u001b[1;32m     79\u001b[0m     \u001b[0mprint\u001b[0m\u001b[0;34m(\u001b[0m\u001b[0;34mf\"Bond Length: {bond_length:.2f} Å, Total Energy: {total_energy:.6f} Hartree\"\u001b[0m\u001b[0;34m)\u001b[0m\u001b[0;34m\u001b[0m\u001b[0;34m\u001b[0m\u001b[0m\n",
            "\u001b[0;32m<ipython-input-118-8b534e943cc9>\u001b[0m in \u001b[0;36mcompute_energy\u001b[0;34m(bond_length)\u001b[0m\n\u001b[1;32m     46\u001b[0m     \u001b[0;32mfor\u001b[0m \u001b[0md\u001b[0m \u001b[0;32min\u001b[0m \u001b[0mrange\u001b[0m\u001b[0;34m(\u001b[0m\u001b[0mdepth\u001b[0m\u001b[0;34m)\u001b[0m\u001b[0;34m:\u001b[0m\u001b[0;34m\u001b[0m\u001b[0;34m\u001b[0m\u001b[0m\n\u001b[1;32m     47\u001b[0m         \u001b[0;32mfor\u001b[0m \u001b[0mi\u001b[0m \u001b[0;32min\u001b[0m \u001b[0mrange\u001b[0m\u001b[0;34m(\u001b[0m\u001b[0mn_qubit\u001b[0m\u001b[0;34m)\u001b[0m\u001b[0;34m:\u001b[0m\u001b[0;34m\u001b[0m\u001b[0;34m\u001b[0m\u001b[0m\n\u001b[0;32m---> 48\u001b[0;31m             \u001b[0mcircuit\u001b[0m\u001b[0;34m.\u001b[0m\u001b[0madd_gate\u001b[0m\u001b[0;34m(\u001b[0m\u001b[0mmerge\u001b[0m\u001b[0;34m(\u001b[0m\u001b[0mRY\u001b[0m\u001b[0;34m(\u001b[0m\u001b[0mi\u001b[0m\u001b[0;34m,\u001b[0m \u001b[0mtheta_list\u001b[0m\u001b[0;34m[\u001b[0m\u001b[0;36m2\u001b[0m\u001b[0;34m*\u001b[0m\u001b[0mi\u001b[0m\u001b[0;34m+\u001b[0m\u001b[0;36m2\u001b[0m\u001b[0;34m*\u001b[0m\u001b[0mn_qubit\u001b[0m\u001b[0;34m*\u001b[0m\u001b[0md\u001b[0m\u001b[0;34m]\u001b[0m\u001b[0;34m)\u001b[0m\u001b[0;34m,\u001b[0m \u001b[0mRZ\u001b[0m\u001b[0;34m(\u001b[0m\u001b[0mi\u001b[0m\u001b[0;34m,\u001b[0m \u001b[0mtheta_list\u001b[0m\u001b[0;34m[\u001b[0m\u001b[0;36m2\u001b[0m\u001b[0;34m*\u001b[0m\u001b[0mi\u001b[0m\u001b[0;34m+\u001b[0m\u001b[0;36m1\u001b[0m\u001b[0;34m+\u001b[0m\u001b[0;36m2\u001b[0m\u001b[0;34m*\u001b[0m\u001b[0mn_qubit\u001b[0m\u001b[0;34m*\u001b[0m\u001b[0md\u001b[0m\u001b[0;34m]\u001b[0m\u001b[0;34m)\u001b[0m\u001b[0;34m)\u001b[0m\u001b[0;34m)\u001b[0m\u001b[0;34m\u001b[0m\u001b[0;34m\u001b[0m\u001b[0m\n\u001b[0m\u001b[1;32m     49\u001b[0m         \u001b[0;32mfor\u001b[0m \u001b[0mi\u001b[0m \u001b[0;32min\u001b[0m \u001b[0mrange\u001b[0m\u001b[0;34m(\u001b[0m\u001b[0mn_qubit\u001b[0m\u001b[0;34m//\u001b[0m\u001b[0;36m2\u001b[0m\u001b[0;34m)\u001b[0m\u001b[0;34m:\u001b[0m\u001b[0;34m\u001b[0m\u001b[0;34m\u001b[0m\u001b[0m\n\u001b[1;32m     50\u001b[0m             \u001b[0mcircuit\u001b[0m\u001b[0;34m.\u001b[0m\u001b[0madd_gate\u001b[0m\u001b[0;34m(\u001b[0m\u001b[0mCZ\u001b[0m\u001b[0;34m(\u001b[0m\u001b[0;36m2\u001b[0m\u001b[0;34m*\u001b[0m\u001b[0mi\u001b[0m\u001b[0;34m,\u001b[0m \u001b[0;36m2\u001b[0m\u001b[0;34m*\u001b[0m\u001b[0mi\u001b[0m\u001b[0;34m+\u001b[0m\u001b[0;36m1\u001b[0m\u001b[0;34m)\u001b[0m\u001b[0;34m)\u001b[0m\u001b[0;34m\u001b[0m\u001b[0;34m\u001b[0m\u001b[0m\n",
            "\u001b[0;31mNameError\u001b[0m: name 'circuit' is not defined"
          ]
        }
      ]
    },
    {
      "cell_type": "code",
      "source": [
        "import numpy as np\n",
        "import matplotlib.pyplot as plt\n",
        "from openfermion.chem import MolecularData\n",
        "from openfermionpyscf import run_pyscf\n",
        "from openfermion.transforms import jordan_wigner\n",
        "from qulacs import QuantumState, Observable, QuantumCircuit\n",
        "from qulacs.gate import RY, RZ, CNOT, CZ, merge # Added CZ and merge imports\n",
        "from scipy.optimize import minimize\n",
        "\n",
        "# Constants\n",
        "basis = \"sto-3g\"  # Basis set\n",
        "multiplicity = 1  # Spin multiplicity\n",
        "charge = 0        # Total charge for the molecule\n",
        "\n",
        "# Function to create the molecule and compute energy\n",
        "def compute_energy(bond_length):\n",
        "    distance = 0.7122\n",
        "    geometry = [[\"H\", [0, 0, 0.356]], [\"H\", [0, 0, -0.356]]]\n",
        "    description = str(distance)\n",
        "    molecule = MolecularData(geometry, basis, multiplicity, charge, description)\n",
        "\n",
        "    # Perform quantum chemistry calculations\n",
        "    molecule = run_pyscf(molecule, run_scf=True)\n",
        "\n",
        "    # Get the molecular Hamiltonian and convert to qubit representation\n",
        "    fermionic_hamiltonian = molecule.get_molecular_hamiltonian()\n",
        "    qubit_hamiltonian = jordan_wigner(fermionic_hamiltonian)\n",
        "    n_qubits = molecule.n_qubits\n",
        "    depth = n_qubits # Define depth\n",
        "\n",
        "    # Convert to Qulacs Observable\n",
        "    observable = Observable(n_qubits)\n",
        "    for term, coeff in qubit_hamiltonian.terms.items():\n",
        "        pauli_string = \" \".join([f\"{p[1]} {p[0]}\" for p in term])\n",
        "        observable.add_operator(coeff, pauli_string)\n",
        "\n",
        "    # Define ansatz - Using he_ansatz_circuit\n",
        "    def create_ansatz(n_qubit, depth,theta_list):\n",
        "        circuit = QuantumCircuit(n_qubits)\n",
        "        for d in range(depth):\n",
        "            for i in range(n_qubits):\n",
        "                circuit.add_gate(merge(RY(i, theta_list[2*i+2*n_qubits*d]), RZ(i, theta_list[2*i+1+2*n_qubits*d])))\n",
        "            for i in range(n_qubits//2):\n",
        "                circuit.add_gate(CZ(2*i, 2*i+1))\n",
        "            for i in range(n_qubits//2-1):\n",
        "                circuit.add_gate(CZ(2*i+1, 2*i+2))\n",
        "        for i in range(n_qubits):\n",
        "            circuit.add_gate(merge(RY(i, theta_list[2*i+2*n_qubits*depth]), RZ(i, theta_list[2*i+1+2*n_qubits*depth])))\n",
        "        return circuit\n",
        "\n",
        "    # Define cost function\n",
        "    def vqe_cost_function(n_qubit, depth,theta_list):\n",
        "        state = QuantumState(n_qubits)\n",
        "        circuit = create_ansatz(n_qubit, depth,theta_list) # Call create_ansatz with theta_list\n",
        "        circuit.update_quantum_state(state)\n",
        "        return observable.get_expectation_value(state)\n",
        "\n",
        "    # Minimize energy using VQE\n",
        "    initial_theta_list = np.random.rand(2 * n_qubits * (depth + 1)) # Adjust initial parameters\n",
        "    result = minimize(vqe_cost_function, initial_theta_list, method=\"COBYLA\")\n",
        "    total_energy = result.fun\n",
        "    return total_energy, molecule.nuclear_repulsion\n",
        "\n",
        "# Loop over various bond lengths\n",
        "bond_lengths = np.linspace(0.5, 2.0, 20)  # Bond lengths from 0.5 to 2.0 Angstroms\n",
        "energies = []\n",
        "\n",
        "for bond_length in bond_lengths:\n",
        "    total_energy, _ = compute_energy(bond_length)\n",
        "    energies.append(total_energy)\n",
        "    print(f\"Bond Length: {bond_length:.2f} Å, Total Energy: {total_energy:.6f} Hartree\")\n",
        "\n",
        "# Plot the energy expectation values vs bond lengths\n",
        "plt.figure(figsize=(8, 6))\n",
        "plt.plot(bond_lengths, energies, marker='o', linestyle='-', color='blue')\n",
        "plt.title(\"Energy Expectation Value vs Bond Length\", fontsize=16)\n",
        "plt.xlabel(\"Bond Length (Å)\", fontsize=14)\n",
        "plt.ylabel(\"Energy Expectation Value (Hartree)\", fontsize=14)\n",
        "plt.grid()\n",
        "plt.show()"
      ],
      "metadata": {
        "colab": {
          "base_uri": "https://localhost:8080/",
          "height": 356
        },
        "id": "xpf_3XW9W1vx",
        "outputId": "9ca2bd71-2baf-421f-cfd2-9f4979321c29"
      },
      "execution_count": 124,
      "outputs": [
        {
          "output_type": "error",
          "ename": "TypeError",
          "evalue": "compute_energy.<locals>.vqe_cost_function() missing 2 required positional arguments: 'depth' and 'theta_list'",
          "traceback": [
            "\u001b[0;31m---------------------------------------------------------------------------\u001b[0m",
            "\u001b[0;31mTypeError\u001b[0m                                 Traceback (most recent call last)",
            "\u001b[0;32m<ipython-input-124-e2a44103a131>\u001b[0m in \u001b[0;36m<cell line: 68>\u001b[0;34m()\u001b[0m\n\u001b[1;32m     67\u001b[0m \u001b[0;34m\u001b[0m\u001b[0m\n\u001b[1;32m     68\u001b[0m \u001b[0;32mfor\u001b[0m \u001b[0mbond_length\u001b[0m \u001b[0;32min\u001b[0m \u001b[0mbond_lengths\u001b[0m\u001b[0;34m:\u001b[0m\u001b[0;34m\u001b[0m\u001b[0;34m\u001b[0m\u001b[0m\n\u001b[0;32m---> 69\u001b[0;31m     \u001b[0mtotal_energy\u001b[0m\u001b[0;34m,\u001b[0m \u001b[0m_\u001b[0m \u001b[0;34m=\u001b[0m \u001b[0mcompute_energy\u001b[0m\u001b[0;34m(\u001b[0m\u001b[0mbond_length\u001b[0m\u001b[0;34m)\u001b[0m\u001b[0;34m\u001b[0m\u001b[0;34m\u001b[0m\u001b[0m\n\u001b[0m\u001b[1;32m     70\u001b[0m     \u001b[0menergies\u001b[0m\u001b[0;34m.\u001b[0m\u001b[0mappend\u001b[0m\u001b[0;34m(\u001b[0m\u001b[0mtotal_energy\u001b[0m\u001b[0;34m)\u001b[0m\u001b[0;34m\u001b[0m\u001b[0;34m\u001b[0m\u001b[0m\n\u001b[1;32m     71\u001b[0m     \u001b[0mprint\u001b[0m\u001b[0;34m(\u001b[0m\u001b[0;34mf\"Bond Length: {bond_length:.2f} Å, Total Energy: {total_energy:.6f} Hartree\"\u001b[0m\u001b[0;34m)\u001b[0m\u001b[0;34m\u001b[0m\u001b[0;34m\u001b[0m\u001b[0m\n",
            "\u001b[0;32m<ipython-input-124-e2a44103a131>\u001b[0m in \u001b[0;36mcompute_energy\u001b[0;34m(bond_length)\u001b[0m\n\u001b[1;32m     58\u001b[0m     \u001b[0;31m# Minimize energy using VQE\u001b[0m\u001b[0;34m\u001b[0m\u001b[0;34m\u001b[0m\u001b[0m\n\u001b[1;32m     59\u001b[0m     \u001b[0minitial_theta_list\u001b[0m \u001b[0;34m=\u001b[0m \u001b[0mnp\u001b[0m\u001b[0;34m.\u001b[0m\u001b[0mrandom\u001b[0m\u001b[0;34m.\u001b[0m\u001b[0mrand\u001b[0m\u001b[0;34m(\u001b[0m\u001b[0;36m2\u001b[0m \u001b[0;34m*\u001b[0m \u001b[0mn_qubits\u001b[0m \u001b[0;34m*\u001b[0m \u001b[0;34m(\u001b[0m\u001b[0mdepth\u001b[0m \u001b[0;34m+\u001b[0m \u001b[0;36m1\u001b[0m\u001b[0;34m)\u001b[0m\u001b[0;34m)\u001b[0m \u001b[0;31m# Adjust initial parameters\u001b[0m\u001b[0;34m\u001b[0m\u001b[0;34m\u001b[0m\u001b[0m\n\u001b[0;32m---> 60\u001b[0;31m     \u001b[0mresult\u001b[0m \u001b[0;34m=\u001b[0m \u001b[0mminimize\u001b[0m\u001b[0;34m(\u001b[0m\u001b[0mvqe_cost_function\u001b[0m\u001b[0;34m,\u001b[0m \u001b[0minitial_theta_list\u001b[0m\u001b[0;34m,\u001b[0m \u001b[0mmethod\u001b[0m\u001b[0;34m=\u001b[0m\u001b[0;34m\"COBYLA\"\u001b[0m\u001b[0;34m)\u001b[0m\u001b[0;34m\u001b[0m\u001b[0;34m\u001b[0m\u001b[0m\n\u001b[0m\u001b[1;32m     61\u001b[0m     \u001b[0mtotal_energy\u001b[0m \u001b[0;34m=\u001b[0m \u001b[0mresult\u001b[0m\u001b[0;34m.\u001b[0m\u001b[0mfun\u001b[0m\u001b[0;34m\u001b[0m\u001b[0;34m\u001b[0m\u001b[0m\n\u001b[1;32m     62\u001b[0m     \u001b[0;32mreturn\u001b[0m \u001b[0mtotal_energy\u001b[0m\u001b[0;34m,\u001b[0m \u001b[0mmolecule\u001b[0m\u001b[0;34m.\u001b[0m\u001b[0mnuclear_repulsion\u001b[0m\u001b[0;34m\u001b[0m\u001b[0;34m\u001b[0m\u001b[0m\n",
            "\u001b[0;32m/usr/local/lib/python3.10/dist-packages/scipy/optimize/_minimize.py\u001b[0m in \u001b[0;36mminimize\u001b[0;34m(fun, x0, args, method, jac, hess, hessp, bounds, constraints, tol, callback, options)\u001b[0m\n\u001b[1;32m    717\u001b[0m                             **options)\n\u001b[1;32m    718\u001b[0m     \u001b[0;32melif\u001b[0m \u001b[0mmeth\u001b[0m \u001b[0;34m==\u001b[0m \u001b[0;34m'cobyla'\u001b[0m\u001b[0;34m:\u001b[0m\u001b[0;34m\u001b[0m\u001b[0;34m\u001b[0m\u001b[0m\n\u001b[0;32m--> 719\u001b[0;31m         res = _minimize_cobyla(fun, x0, args, constraints, callback=callback,\n\u001b[0m\u001b[1;32m    720\u001b[0m                                bounds=bounds, **options)\n\u001b[1;32m    721\u001b[0m     \u001b[0;32melif\u001b[0m \u001b[0mmeth\u001b[0m \u001b[0;34m==\u001b[0m \u001b[0;34m'slsqp'\u001b[0m\u001b[0;34m:\u001b[0m\u001b[0;34m\u001b[0m\u001b[0;34m\u001b[0m\u001b[0m\n",
            "\u001b[0;32m/usr/local/lib/python3.10/dist-packages/scipy/optimize/_cobyla_py.py\u001b[0m in \u001b[0;36mwrapper\u001b[0;34m(*args, **kwargs)\u001b[0m\n\u001b[1;32m     33\u001b[0m     \u001b[0;32mdef\u001b[0m \u001b[0mwrapper\u001b[0m\u001b[0;34m(\u001b[0m\u001b[0;34m*\u001b[0m\u001b[0margs\u001b[0m\u001b[0;34m,\u001b[0m \u001b[0;34m**\u001b[0m\u001b[0mkwargs\u001b[0m\u001b[0;34m)\u001b[0m\u001b[0;34m:\u001b[0m\u001b[0;34m\u001b[0m\u001b[0;34m\u001b[0m\u001b[0m\n\u001b[1;32m     34\u001b[0m         \u001b[0;32mwith\u001b[0m \u001b[0m_module_lock\u001b[0m\u001b[0;34m:\u001b[0m\u001b[0;34m\u001b[0m\u001b[0;34m\u001b[0m\u001b[0m\n\u001b[0;32m---> 35\u001b[0;31m             \u001b[0;32mreturn\u001b[0m \u001b[0mfunc\u001b[0m\u001b[0;34m(\u001b[0m\u001b[0;34m*\u001b[0m\u001b[0margs\u001b[0m\u001b[0;34m,\u001b[0m \u001b[0;34m**\u001b[0m\u001b[0mkwargs\u001b[0m\u001b[0;34m)\u001b[0m\u001b[0;34m\u001b[0m\u001b[0;34m\u001b[0m\u001b[0m\n\u001b[0m\u001b[1;32m     36\u001b[0m     \u001b[0;32mreturn\u001b[0m \u001b[0mwrapper\u001b[0m\u001b[0;34m\u001b[0m\u001b[0;34m\u001b[0m\u001b[0m\n\u001b[1;32m     37\u001b[0m \u001b[0;34m\u001b[0m\u001b[0m\n",
            "\u001b[0;32m/usr/local/lib/python3.10/dist-packages/scipy/optimize/_cobyla_py.py\u001b[0m in \u001b[0;36m_minimize_cobyla\u001b[0;34m(fun, x0, args, constraints, rhobeg, tol, maxiter, disp, catol, callback, bounds, **unknown_options)\u001b[0m\n\u001b[1;32m    276\u001b[0m         \u001b[0;32mreturn\u001b[0m \u001b[0;32mNone\u001b[0m\u001b[0;34m\u001b[0m\u001b[0;34m\u001b[0m\u001b[0m\n\u001b[1;32m    277\u001b[0m \u001b[0;34m\u001b[0m\u001b[0m\n\u001b[0;32m--> 278\u001b[0;31m     \u001b[0msf\u001b[0m \u001b[0;34m=\u001b[0m \u001b[0m_prepare_scalar_function\u001b[0m\u001b[0;34m(\u001b[0m\u001b[0mfun\u001b[0m\u001b[0;34m,\u001b[0m \u001b[0mx0\u001b[0m\u001b[0;34m,\u001b[0m \u001b[0margs\u001b[0m\u001b[0;34m=\u001b[0m\u001b[0margs\u001b[0m\u001b[0;34m,\u001b[0m \u001b[0mjac\u001b[0m\u001b[0;34m=\u001b[0m\u001b[0m_jac\u001b[0m\u001b[0;34m)\u001b[0m\u001b[0;34m\u001b[0m\u001b[0;34m\u001b[0m\u001b[0m\n\u001b[0m\u001b[1;32m    279\u001b[0m \u001b[0;34m\u001b[0m\u001b[0m\n\u001b[1;32m    280\u001b[0m     \u001b[0;32mdef\u001b[0m \u001b[0mcalcfc\u001b[0m\u001b[0;34m(\u001b[0m\u001b[0mx\u001b[0m\u001b[0;34m,\u001b[0m \u001b[0mcon\u001b[0m\u001b[0;34m)\u001b[0m\u001b[0;34m:\u001b[0m\u001b[0;34m\u001b[0m\u001b[0;34m\u001b[0m\u001b[0m\n",
            "\u001b[0;32m/usr/local/lib/python3.10/dist-packages/scipy/optimize/_optimize.py\u001b[0m in \u001b[0;36m_prepare_scalar_function\u001b[0;34m(fun, x0, jac, args, bounds, epsilon, finite_diff_rel_step, hess)\u001b[0m\n\u001b[1;32m    286\u001b[0m     \u001b[0;31m# ScalarFunction caches. Reuse of fun(x) during grad\u001b[0m\u001b[0;34m\u001b[0m\u001b[0;34m\u001b[0m\u001b[0m\n\u001b[1;32m    287\u001b[0m     \u001b[0;31m# calculation reduces overall function evaluations.\u001b[0m\u001b[0;34m\u001b[0m\u001b[0;34m\u001b[0m\u001b[0m\n\u001b[0;32m--> 288\u001b[0;31m     sf = ScalarFunction(fun, x0, args, grad, hess,\n\u001b[0m\u001b[1;32m    289\u001b[0m                         finite_diff_rel_step, bounds, epsilon=epsilon)\n\u001b[1;32m    290\u001b[0m \u001b[0;34m\u001b[0m\u001b[0m\n",
            "\u001b[0;32m/usr/local/lib/python3.10/dist-packages/scipy/optimize/_differentiable_functions.py\u001b[0m in \u001b[0;36m__init__\u001b[0;34m(self, fun, x0, args, grad, hess, finite_diff_rel_step, finite_diff_bounds, epsilon)\u001b[0m\n\u001b[1;32m    164\u001b[0m \u001b[0;34m\u001b[0m\u001b[0m\n\u001b[1;32m    165\u001b[0m         \u001b[0mself\u001b[0m\u001b[0;34m.\u001b[0m\u001b[0m_update_fun_impl\u001b[0m \u001b[0;34m=\u001b[0m \u001b[0mupdate_fun\u001b[0m\u001b[0;34m\u001b[0m\u001b[0;34m\u001b[0m\u001b[0m\n\u001b[0;32m--> 166\u001b[0;31m         \u001b[0mself\u001b[0m\u001b[0;34m.\u001b[0m\u001b[0m_update_fun\u001b[0m\u001b[0;34m(\u001b[0m\u001b[0;34m)\u001b[0m\u001b[0;34m\u001b[0m\u001b[0;34m\u001b[0m\u001b[0m\n\u001b[0m\u001b[1;32m    167\u001b[0m \u001b[0;34m\u001b[0m\u001b[0m\n\u001b[1;32m    168\u001b[0m         \u001b[0;31m# Gradient evaluation\u001b[0m\u001b[0;34m\u001b[0m\u001b[0;34m\u001b[0m\u001b[0m\n",
            "\u001b[0;32m/usr/local/lib/python3.10/dist-packages/scipy/optimize/_differentiable_functions.py\u001b[0m in \u001b[0;36m_update_fun\u001b[0;34m(self)\u001b[0m\n\u001b[1;32m    260\u001b[0m     \u001b[0;32mdef\u001b[0m \u001b[0m_update_fun\u001b[0m\u001b[0;34m(\u001b[0m\u001b[0mself\u001b[0m\u001b[0;34m)\u001b[0m\u001b[0;34m:\u001b[0m\u001b[0;34m\u001b[0m\u001b[0;34m\u001b[0m\u001b[0m\n\u001b[1;32m    261\u001b[0m         \u001b[0;32mif\u001b[0m \u001b[0;32mnot\u001b[0m \u001b[0mself\u001b[0m\u001b[0;34m.\u001b[0m\u001b[0mf_updated\u001b[0m\u001b[0;34m:\u001b[0m\u001b[0;34m\u001b[0m\u001b[0;34m\u001b[0m\u001b[0m\n\u001b[0;32m--> 262\u001b[0;31m             \u001b[0mself\u001b[0m\u001b[0;34m.\u001b[0m\u001b[0m_update_fun_impl\u001b[0m\u001b[0;34m(\u001b[0m\u001b[0;34m)\u001b[0m\u001b[0;34m\u001b[0m\u001b[0;34m\u001b[0m\u001b[0m\n\u001b[0m\u001b[1;32m    263\u001b[0m             \u001b[0mself\u001b[0m\u001b[0;34m.\u001b[0m\u001b[0mf_updated\u001b[0m \u001b[0;34m=\u001b[0m \u001b[0;32mTrue\u001b[0m\u001b[0;34m\u001b[0m\u001b[0;34m\u001b[0m\u001b[0m\n\u001b[1;32m    264\u001b[0m \u001b[0;34m\u001b[0m\u001b[0m\n",
            "\u001b[0;32m/usr/local/lib/python3.10/dist-packages/scipy/optimize/_differentiable_functions.py\u001b[0m in \u001b[0;36mupdate_fun\u001b[0;34m()\u001b[0m\n\u001b[1;32m    161\u001b[0m \u001b[0;34m\u001b[0m\u001b[0m\n\u001b[1;32m    162\u001b[0m         \u001b[0;32mdef\u001b[0m \u001b[0mupdate_fun\u001b[0m\u001b[0;34m(\u001b[0m\u001b[0;34m)\u001b[0m\u001b[0;34m:\u001b[0m\u001b[0;34m\u001b[0m\u001b[0;34m\u001b[0m\u001b[0m\n\u001b[0;32m--> 163\u001b[0;31m             \u001b[0mself\u001b[0m\u001b[0;34m.\u001b[0m\u001b[0mf\u001b[0m \u001b[0;34m=\u001b[0m \u001b[0mfun_wrapped\u001b[0m\u001b[0;34m(\u001b[0m\u001b[0mself\u001b[0m\u001b[0;34m.\u001b[0m\u001b[0mx\u001b[0m\u001b[0;34m)\u001b[0m\u001b[0;34m\u001b[0m\u001b[0;34m\u001b[0m\u001b[0m\n\u001b[0m\u001b[1;32m    164\u001b[0m \u001b[0;34m\u001b[0m\u001b[0m\n\u001b[1;32m    165\u001b[0m         \u001b[0mself\u001b[0m\u001b[0;34m.\u001b[0m\u001b[0m_update_fun_impl\u001b[0m \u001b[0;34m=\u001b[0m \u001b[0mupdate_fun\u001b[0m\u001b[0;34m\u001b[0m\u001b[0;34m\u001b[0m\u001b[0m\n",
            "\u001b[0;32m/usr/local/lib/python3.10/dist-packages/scipy/optimize/_differentiable_functions.py\u001b[0m in \u001b[0;36mfun_wrapped\u001b[0;34m(x)\u001b[0m\n\u001b[1;32m    143\u001b[0m             \u001b[0;31m# Overwriting results in undefined behaviour because\u001b[0m\u001b[0;34m\u001b[0m\u001b[0;34m\u001b[0m\u001b[0m\n\u001b[1;32m    144\u001b[0m             \u001b[0;31m# fun(self.x) will change self.x, with the two no longer linked.\u001b[0m\u001b[0;34m\u001b[0m\u001b[0;34m\u001b[0m\u001b[0m\n\u001b[0;32m--> 145\u001b[0;31m             \u001b[0mfx\u001b[0m \u001b[0;34m=\u001b[0m \u001b[0mfun\u001b[0m\u001b[0;34m(\u001b[0m\u001b[0mnp\u001b[0m\u001b[0;34m.\u001b[0m\u001b[0mcopy\u001b[0m\u001b[0;34m(\u001b[0m\u001b[0mx\u001b[0m\u001b[0;34m)\u001b[0m\u001b[0;34m,\u001b[0m \u001b[0;34m*\u001b[0m\u001b[0margs\u001b[0m\u001b[0;34m)\u001b[0m\u001b[0;34m\u001b[0m\u001b[0;34m\u001b[0m\u001b[0m\n\u001b[0m\u001b[1;32m    146\u001b[0m             \u001b[0;31m# Make sure the function returns a true scalar\u001b[0m\u001b[0;34m\u001b[0m\u001b[0;34m\u001b[0m\u001b[0m\n\u001b[1;32m    147\u001b[0m             \u001b[0;32mif\u001b[0m \u001b[0;32mnot\u001b[0m \u001b[0mnp\u001b[0m\u001b[0;34m.\u001b[0m\u001b[0misscalar\u001b[0m\u001b[0;34m(\u001b[0m\u001b[0mfx\u001b[0m\u001b[0;34m)\u001b[0m\u001b[0;34m:\u001b[0m\u001b[0;34m\u001b[0m\u001b[0;34m\u001b[0m\u001b[0m\n",
            "\u001b[0;31mTypeError\u001b[0m: compute_energy.<locals>.vqe_cost_function() missing 2 required positional arguments: 'depth' and 'theta_list'"
          ]
        }
      ]
    },
    {
      "cell_type": "code",
      "source": [
        "import numpy as np\n",
        "import matplotlib.pyplot as plt\n",
        "from openfermion.chem import MolecularData\n",
        "from openfermionpyscf import run_pyscf\n",
        "from openfermion.transforms import jordan_wigner\n",
        "from qulacs import QuantumState, Observable, QuantumCircuit\n",
        "from qulacs.gate import RY, RZ, CNOT, CZ, merge\n",
        "from scipy.optimize import minimize\n",
        "\n",
        "# Constants\n",
        "basis = \"sto-3g\"  # Basis set\n",
        "multiplicity = 1  # Spin multiplicity\n",
        "charge = 0        # Total charge for the molecule\n",
        "\n",
        "# Function to create the molecule and compute energy\n",
        "def compute_energy(bond_length):\n",
        "    distance = 0.7122\n",
        "    geometry = [[\"H\", [0, 0, 0.356]], [\"H\", [0, 0, -0.356]]]\n",
        "    description = str(distance)\n",
        "    molecule = MolecularData(geometry, basis, multiplicity, charge, description)\n",
        "\n",
        "    # Perform quantum chemistry calculations\n",
        "    molecule = run_pyscf(molecule, run_scf=True)\n",
        "\n",
        "    # Get the molecular Hamiltonian and convert to qubit representation\n",
        "    fermionic_hamiltonian = molecule.get_molecular_hamiltonian()\n",
        "    qubit_hamiltonian = jordan_wigner(fermionic_hamiltonian)\n",
        "    n_qubits = molecule.n_qubits\n",
        "    depth = n_qubits # Define depth\n",
        "\n",
        "    # Convert to Qulacs Observable\n",
        "    observable = Observable(n_qubits)\n",
        "    for term, coeff in qubit_hamiltonian.terms.items():\n",
        "        pauli_string = \" \".join([f\"{p[1]} {p[0]}\" for p in term])\n",
        "        observable.add_operator(coeff, pauli_string)\n",
        "\n",
        "    # Define ansatz - Using he_ansatz_circuit\n",
        "    def create_ansatz(n_qubit, depth, theta_list):\n",
        "        circuit = QuantumCircuit(n_qubits)\n",
        "        for d in range(depth):\n",
        "            for i in range(n_qubits):\n",
        "                circuit.add_gate(merge(RY(i, theta_list[2*i+2*n_qubits*d]), RZ(i, theta_list[2*i+1+2*n_qubits*d])))\n",
        "            for i in range(n_qubits//2):\n",
        "                circuit.add_gate(CZ(2*i, 2*i+1))\n",
        "            for i in range(n_qubits//2-1):\n",
        "                circuit.add_gate(CZ(2*i+1, 2*i+2))\n",
        "        for i in range(n_qubits):\n",
        "            circuit.add_gate(merge(RY(i, theta_list[2*i+2*n_qubits*depth]), RZ(i, theta_list[2*i+1+2*n_qubits*depth])))\n",
        "        return circuit\n",
        "\n",
        "    # Define cost function\n",
        "   def cost(theta_list):\n",
        "    state = QuantumState(n_qubit) #prepare |00000>\n",
        "    circuit = he_ansatz_circuit(n_qubit, depth, theta_list) #create a quantum circuit\n",
        "    circuit.update_quantum_state(state) #apply to a quantum circuit\n",
        "    return qulacs_hamiltonian.get_expectation_value(state) #calculate the expectation of a Hamiltonian\n",
        "    # Minimize energy using VQE\n",
        "    initial_theta_list = np.random.rand(2 * n_qubits * (depth + 1)) # Adjust initial parameters\n",
        "    result = minimize(vqe_cost_function, initial_theta_list, method=\"COBYLA\") # Call with correct arguments\n",
        "    total_energy = result.fun\n",
        "    return total_energy, molecule.nuclear_repulsion\n",
        "\n",
        "# Loop over various bond lengths\n",
        "bond_lengths = np.linspace(0.5, 2.0, 20)  # Bond lengths from 0.5 to 2.0 Angstroms\n",
        "energies = []\n",
        "\n",
        "for bond_length in bond_lengths:\n",
        "    total_energy, _ = compute_energy(bond_length)\n",
        "    energies.append(total_energy)\n",
        "    print(f\"Bond Length: {bond_length:.2f} Å, Total Energy: {total_energy:.6f} Hartree\")\n",
        "\n",
        "# Plot the energy expectation values vs bond lengths\n",
        "plt.figure(figsize=(8, 6))\n",
        "plt.plot(bond_lengths, energies, marker='o', linestyle='-', color='blue')\n",
        "plt.title(\"Energy Expectation Value vs Bond Length\", fontsize=16)\n",
        "plt.xlabel(\"Bond Length (Å)\", fontsize=14)\n",
        "plt.ylabel(\"Energy Expectation Value (Hartree)\", fontsize=14)\n",
        "plt.grid()\n",
        "plt.show()"
      ],
      "metadata": {
        "colab": {
          "base_uri": "https://localhost:8080/",
          "height": 106
        },
        "id": "75g8cUy7YWnu",
        "outputId": "1d2072c4-55ab-4d01-88a8-120f026172cc"
      },
      "execution_count": 140,
      "outputs": [
        {
          "output_type": "error",
          "ename": "IndentationError",
          "evalue": "unindent does not match any outer indentation level (<tokenize>, line 52)",
          "traceback": [
            "\u001b[0;36m  File \u001b[0;32m\"<tokenize>\"\u001b[0;36m, line \u001b[0;32m52\u001b[0m\n\u001b[0;31m    def cost(theta_list):\u001b[0m\n\u001b[0m    ^\u001b[0m\n\u001b[0;31mIndentationError\u001b[0m\u001b[0;31m:\u001b[0m unindent does not match any outer indentation level\n"
          ]
        }
      ]
    },
    {
      "cell_type": "code",
      "source": [
        "import numpy as np\n",
        "import matplotlib.pyplot as plt\n",
        "from openfermion.chem import MolecularData\n",
        "from openfermionpyscf import run_pyscf\n",
        "from openfermion.transforms import jordan_wigner\n",
        "from qulacs import QuantumState, Observable, QuantumCircuit\n",
        "from qulacs.gate import RY, RZ, CNOT, CZ, merge\n",
        "from scipy.optimize import minimize\n",
        "\n",
        "# Constants\n",
        "basis = \"sto-3g\"  # Basis set\n",
        "multiplicity = 1  # Spin multiplicity\n",
        "charge = 0        # Total charge for the molecule\n",
        "\n",
        "# Function to create the molecule and compute energy\n",
        "def compute_energy(bond_length):\n",
        "    distance = 0.7122\n",
        "    geometry = [[\"H\", [0, 0, 0.356]], [\"H\", [0, 0, -0.356]]]\n",
        "    description = str(distance)\n",
        "    molecule = MolecularData(geometry, basis, multiplicity, charge, description)\n",
        "\n",
        "    # Perform quantum chemistry calculations\n",
        "    molecule = run_pyscf(molecule, run_scf=True)\n",
        "\n",
        "    # Get the molecular Hamiltonian and convert to qubit representation\n",
        "    fermionic_hamiltonian = molecule.get_molecular_hamiltonian()\n",
        "    qubit_hamiltonian = jordan_wigner(fermionic_hamiltonian)\n",
        "    n_qubits = molecule.n_qubits\n",
        "    depth = n_qubits # Define depth\n",
        "\n",
        "    # Convert to Qulacs Observable\n",
        "    observable = Observable(n_qubits)\n",
        "    for term, coeff in qubit_hamiltonian.terms.items():\n",
        "        pauli_string = \" \".join([f\"{p[1]} {p[0]}\" for p in term])\n",
        "        observable.add_operator(coeff, pauli_string)\n",
        "\n",
        "    # Define ansatz - Using he_ansatz_circuit\n",
        "    def create_ansatz(n_qubit, depth, theta_list):\n",
        "        circuit = QuantumCircuit(n_qubits)\n",
        "        for d in range(depth):\n",
        "            for i in range(n_qubits):\n",
        "                circuit.add_gate(merge(RY(i, theta_list[2*i+2*n_qubits*d]), RZ(i, theta_list[2*i+1+2*n_qubits*d])))\n",
        "            for i in range(n_qubits//2):\n",
        "                circuit.add_gate(CZ(2*i, 2*i+1))\n",
        "            for i in range(n_qubits//2-1):\n",
        "                circuit.add_gate(CZ(2*i+1, 2*i+2))\n",
        "        for i in range(n_qubits):\n",
        "            circuit.add_gate(merge(RY(i, theta_list[2*i+2*n_qubits*depth]), RZ(i, theta_list[2*i+1+2*n_qubits*depth])))\n",
        "        return circuit\n",
        "\n",
        "    # Define cost function\n",
        "    #The cost function was defined with an invalid indent, corrected indent\n",
        "    def vqe_cost_function(theta_list):\n",
        "        state = QuantumState(n_qubits)\n",
        "        circuit = create_ansatz(n_qubits, depth, theta_list)  # Pass n_qubits and depth\n",
        "        circuit.update_quantum_state(state)\n",
        "        return observable.get_expectation_value(state)\n",
        "        cost_history = []\n",
        "init_theta_list = np.random.random(2*n_qubit*(depth+1))*1e-1\n",
        "cost_history.append(cost(init_theta_list))\n",
        "method = \"BFGS\"\n",
        "options = {\"disp\": True, \"maxiter\": 50, \"gtol\": 1e-6}\n",
        "opt = minimize(cost, init_theta_list,\n",
        "               method=method,\n",
        "               callback=lambda x: cost_history.append(cost(x)))\n",
        "\n",
        "\n",
        "    # Minimize energy using VQE\n",
        "    initial_theta_list = np.random.rand(2 * n_qubits * (depth + 1)) # Adjust initial parameters\n",
        "    #Call vqe_cost_function with correct parameters\n",
        "    result = minimize(vqe_cost_function, initial_theta_list, method=\"COBYLA\")\n",
        "    total_energy = result.fun\n",
        "    return total_energy, molecule.nuclear_repulsion\n",
        "\n",
        "# Loop over various bond lengths\n",
        "bond_lengths = np.linspace(0.5, 2.0, 20)  # Bond lengths from 0.5 to 2.0 Angstroms\n",
        "energies = []\n",
        "\n",
        "for bond_length in bond_lengths:\n",
        "    total_energy, _ = compute_energy(bond_length)\n",
        "    energies.append(total_energy)\n",
        "    print(f\"Bond Length: {bond_length:.2f} Å, Total Energy: {total_energy:.6f} Hartree\")\n",
        "\n",
        "# Plot the energy expectation values vs bond lengths\n",
        "plt.figure(figsize=(8, 6))\n",
        "plt.plot(bond_lengths, energies, marker='o', linestyle='-', color='blue')\n",
        "plt.title(\"Energy Expectation Value vs Bond Length\", fontsize=16)\n",
        "plt.xlabel(\"Bond Length (Å)\", fontsize=14)\n",
        "plt.ylabel(\"Energy Expectation Value (Hartree)\", fontsize=14)\n",
        "plt.grid()\n",
        "plt.show()"
      ],
      "metadata": {
        "colab": {
          "base_uri": "https://localhost:8080/",
          "height": 106
        },
        "id": "2WZ9d9tcZ48T",
        "outputId": "8609ac04-1000-4a2f-b85c-d01bb67390ff"
      },
      "execution_count": 142,
      "outputs": [
        {
          "output_type": "error",
          "ename": "IndentationError",
          "evalue": "unexpected indent (<ipython-input-142-2bda00c2e82c>, line 69)",
          "traceback": [
            "\u001b[0;36m  File \u001b[0;32m\"<ipython-input-142-2bda00c2e82c>\"\u001b[0;36m, line \u001b[0;32m69\u001b[0m\n\u001b[0;31m    initial_theta_list = np.random.rand(2 * n_qubits * (depth + 1)) # Adjust initial parameters\u001b[0m\n\u001b[0m    ^\u001b[0m\n\u001b[0;31mIndentationError\u001b[0m\u001b[0;31m:\u001b[0m unexpected indent\n"
          ]
        }
      ]
    },
    {
      "cell_type": "code",
      "source": [
        "import numpy as np\n",
        "import matplotlib.pyplot as plt\n",
        "from openfermion.chem import MolecularData\n",
        "from openfermionpyscf import run_pyscf\n",
        "from openfermion.transforms import jordan_wigner\n",
        "from qulacs import QuantumState, Observable, QuantumCircuit\n",
        "from qulacs.gate import RY, RZ, CNOT, CZ, merge\n",
        "from scipy.optimize import minimize\n",
        "\n",
        "# Constants\n",
        "basis = \"sto-3g\"  # Basis set\n",
        "multiplicity = 1  # Spin multiplicity\n",
        "charge = 0        # Total charge for the molecule\n",
        "\n",
        "# Function to create the molecule and compute energy\n",
        "def compute_energy(bond_length):\n",
        "    distance = 0.7122\n",
        "    geometry = [[\"H\", [0, 0, 0.356]], [\"H\", [0, 0, -0.356]]]\n",
        "    description = str(distance)\n",
        "    molecule = MolecularData(geometry, basis, multiplicity, charge, description)\n",
        "\n",
        "    # Perform quantum chemistry calculations\n",
        "    molecule = run_pyscf(molecule, run_scf=True)\n",
        "\n",
        "    # Get the molecular Hamiltonian and convert to qubit representation\n",
        "    fermionic_hamiltonian = molecule.get_molecular_hamiltonian()\n",
        "    qubit_hamiltonian = jordan_wigner(fermionic_hamiltonian)\n",
        "    n_qubits = molecule.n_qubits\n",
        "    depth = n_qubits # Define depth\n",
        "\n",
        "    # Convert to Qulacs Observable\n",
        "    observable = Observable(n_qubits)\n",
        "    for term, coeff in qubit_hamiltonian.terms.items():\n",
        "        pauli_string = \" \".join([f\"{p[1]} {p[0]}\" for p in term])\n",
        "        observable.add_operator(coeff, pauli_string)\n",
        "\n",
        "    # Define ansatz - Using he_ansatz_circuit\n",
        "    def create_ansatz(n_qubit, depth, theta_list):\n",
        "        circuit = QuantumCircuit(n_qubits)\n",
        "        for d in range(depth):\n",
        "            for i in range(n_qubits):\n",
        "                circuit.add_gate(merge(RY(i, theta_list[2*i+2*n_qubits*d]), RZ(i, theta_list[2*i+1+2*n_qubits*d])))\n",
        "            for i in range(n_qubits//2):\n",
        "                circuit.add_gate(CZ(2*i, 2*i+1))\n",
        "            for i in range(n_qubits//2-1):\n",
        "                circuit.add_gate(CZ(2*i+1, 2*i+2))\n",
        "        for i in range(n_qubits):\n",
        "            circuit.add_gate(merge(RY(i, theta_list[2*i+2*n_qubits*depth]), RZ(i, theta_list[2*i+1+2*n_qubits*depth])))\n",
        "        return circuit\n",
        "\n",
        "    # Define cost function\n",
        "    #The cost function was defined with an invalid indent, corrected indent\n",
        "    def vqe_cost_function(theta_list):\n",
        "        state = QuantumState(n_qubits)\n",
        "        circuit = create_ansatz(n_qubits, depth, theta_list)  # Pass n_qubits and depth\n",
        "        circuit.update_quantum_state(state)\n",
        "        return observable.get_expectation_value(state)\n",
        "\n",
        "    # Minimize energy using VQE\n",
        "    #Corrected the indent for the following lines\n",
        "    initial_theta_list = np.random.rand(2 * n_qubits * (depth + 1)) # Adjust initial parameters\n",
        "    #Call vqe_cost_function with correct parameters\n",
        "    result = minimize(vqe_cost_function, initial_theta_list, method=\"COBYLA\")\n",
        "    total_energy = result.fun\n",
        "    return total_energy, molecule.nuclear_repulsion\n",
        "\n",
        "# Loop over various bond lengths\n",
        "bond_lengths = np.linspace(0.5, 2.0, 20)  # Bond lengths from 0.5 to 2.0 Angstroms\n",
        "energies = []\n",
        "\n",
        "for bond_length in bond_lengths:\n",
        "    total_energy, _ = compute_energy(bond_length)\n",
        "    energies.append(total_energy)\n",
        "    print(f\"Bond Length: {bond_length:.2f} Å, Total Energy: {total_energy:.6f} Hartree\")\n",
        "\n",
        "# Plot the energy expectation values vs bond lengths\n",
        "plt.figure(figsize=(8, 6))\n",
        "plt.plot(bond_lengths, energies, marker='o', linestyle='-', color='blue')\n",
        "plt.title(\"Energy Expectation Value vs Bond Length\", fontsize=16)\n",
        "plt.xlabel(\"Bond Length (Å)\", fontsize=14)\n",
        "plt.ylabel(\"Energy Expectation Value (Hartree)\", fontsize=14)\n",
        "plt.grid()\n",
        "plt.show()"
      ],
      "metadata": {
        "colab": {
          "base_uri": "https://localhost:8080/",
          "height": 932
        },
        "id": "RtH2-vi8bG5p",
        "outputId": "63b98566-e220-4a40-89e2-24a1c1d88796"
      },
      "execution_count": 160,
      "outputs": [
        {
          "output_type": "stream",
          "name": "stdout",
          "text": [
            "Bond Length: 0.50 Å, Total Energy: -1.134422 Hartree\n",
            "Bond Length: 0.58 Å, Total Energy: -1.118517 Hartree\n",
            "Bond Length: 0.66 Å, Total Energy: -1.123084 Hartree\n",
            "Bond Length: 0.74 Å, Total Energy: -1.131407 Hartree\n",
            "Bond Length: 0.82 Å, Total Energy: -1.130820 Hartree\n",
            "Bond Length: 0.89 Å, Total Energy: -1.117223 Hartree\n",
            "Bond Length: 0.97 Å, Total Energy: -1.128153 Hartree\n",
            "Bond Length: 1.05 Å, Total Energy: -1.125551 Hartree\n",
            "Bond Length: 1.13 Å, Total Energy: -1.122189 Hartree\n",
            "Bond Length: 1.21 Å, Total Energy: -1.118093 Hartree\n",
            "Bond Length: 1.29 Å, Total Energy: -1.134930 Hartree\n",
            "Bond Length: 1.37 Å, Total Energy: -1.130777 Hartree\n",
            "Bond Length: 1.45 Å, Total Energy: -1.119424 Hartree\n",
            "Bond Length: 1.53 Å, Total Energy: -1.117501 Hartree\n",
            "Bond Length: 1.61 Å, Total Energy: -1.118866 Hartree\n",
            "Bond Length: 1.68 Å, Total Energy: -1.123900 Hartree\n",
            "Bond Length: 1.76 Å, Total Energy: -1.127828 Hartree\n",
            "Bond Length: 1.84 Å, Total Energy: -1.117393 Hartree\n",
            "Bond Length: 1.92 Å, Total Energy: -1.117165 Hartree\n",
            "Bond Length: 2.00 Å, Total Energy: -1.120968 Hartree\n"
          ]
        },
        {
          "output_type": "display_data",
          "data": {
            "text/plain": [
              "<Figure size 800x600 with 1 Axes>"
            ],
            "image/png": "[encoded data removed]"
          },
          "metadata": {}
        }
      ]
    },
    {
      "cell_type": "markdown",
      "source": [
        "Encouraged readers should calculate the ground state by changing distance, the distance between the hydrogen atoms and find the interatomic distance at which the hydrogen molecule is most stable. (It should be about 0.74 Angstroms, depending on ansatz performance.)"
      ],
      "metadata": {
        "id": "JMXycgK1wEvX"
      }
    },
    {
      "cell_type": "markdown",
      "source": [
        "Quantum Phase Estimation Algorithm in Detail:Application to Hydrogen Molecule as an Example\n",
        "\n",
        "In this section, we review the Quantum Phase Estimation (QPE) algorithm and try to find the eigenvalues ​​of the Hamiltonian of a quantum many-body system (hydrogen molecule) using QPE. In the process, we will learn in detail the flow and techniques for applying QPE to real problems.\n",
        "Review of Phase Estimation\n",
        "\n",
        "As we have already learned in 2-4. Phase estimation algorithm (introductory), given a unitary matrix U\n",
        ", QPE extracts its eigenvalues ​​eiλ\n",
        "\n",
        "as bit strings. By using QPE as a subroutine, it is expected that many problems such as prime factorization and quantum many-body energy calculation (which can be reduced to the eigenvalue problem of unitary matrices) can be solved much faster than classical computers.\n",
        "\n",
        "Let us recall the transformation of QPE specifically. Let |ui⟩\n",
        "be the eigenvector corresponding to the i-th eigenvalue eiλi of U (U|ui⟩=eiλi|ui rangle). At this time, using the control unitary operation Λ(U)\n",
        "\n",
        "and the quantum Fourier transform, the QPE realizes the following transform.\n",
        "|ui⟩|0⟩⊗tQPE−−−→|ui⟩|~λi⟩.\n",
        "\n",
        "where |0⟩⊗t\n",
        "are t auxiliary qubits and ~λi=j1j2…jt is a bit string that is binary expression of λi up to the t\n",
        "\n",
        "th digit\n",
        "λi2π=j12+j222+…+jt2t=0.j1j2…jt\n",
        "\n",
        "(The (t+1)\n",
        "\n",
        "th digit and after are omitted.)\n",
        "\n",
        "To run this QPE on practical problems, it is believed that a quantum computer with error correction is required (long-term algorithm). The main reason is\n",
        "\n",
        "    number of auxiliary bits\n",
        "\n",
        "    complexity of control unitary gate Λ(U2k−1)\n",
        "\n",
        "(k=1,...,t\n",
        "\n",
        "    )\n",
        "\n",
        "First, regarding the number of ancillary bits, for example, 50 or more ancillary bits are required to obtain λi\n",
        "with the precision of double-precision real numbers used in modern classical computers. And with such a large number of ancillary bits (i.e. large t ), the control unitary gate Λ(U2k−1) (k=1,...,t) for very large powers of U. The difficulty of preparing such a control gate depends on what kind of matrix you consider for U\n",
        "\n",
        ", but in general it is not easy:\n",
        "\n",
        "As we will see later, in the case of the eigenvalue problem of the Hermitian matrix H\n",
        ", which is one of the most promising applications of QPE, U is the time evolution operator by H. That is, U=e−iHτ (where τ is a constant). Therefore, the large power of U means simulating development of H\n",
        "\n",
        "for a long time (exponential to the reciprocal of precision). This is very difficult.\n",
        "Iterative Quantum Phase Estimation\n",
        "\n",
        "In fact, if we’re only interested in the eigenvalues ​​of U\n",
        "\n",
        "and don’t need the eigenstates, we can reduce the QPE ancillary bits. This is called Iterative Quantum Phase Estimation (IQPE),(https://journals.aps.org/pra/abstract/10.1103/PhysRevA.76.030306) ,and is equivalent the method introduced in the section “Introduction: Improving the Hadamard test” of Section 2-4, I will describe it here again.\n",
        "\n",
        "IQPE is a method of deterministically obtaining bit strings of binary expansion of eigenvalues ​​for each digit. Only one auxiliary bit is required, and one digit value (jk\n",
        ") of the eigenvalue binary decimal representation 0.j1...jt is obtained for each iteration. The steps are (k=t,t−1,…,1\n",
        "\n",
        "):\n",
        "k=t\n",
        "\n",
        "\n",
        "    Put a Hadamard gate on the auxiliary bit\n",
        "\n",
        "|0⟩|ui⟩H−→1√2(|0⟩+|1⟩)|ui⟩\n",
        "\n",
        "    Multiply the ancillary bits by Λ(U2t−1)\n",
        "\n",
        "1√2(|0⟩+|1⟩)|ui⟩Λ(U2t−1)−−−−−→1√2(|0⟩+eiπjt|1⟩)|ui⟩\n",
        "\n",
        "    Apply a Hadamard gate to the auxiliary bit and measure\n",
        "\n",
        "1√2(|0⟩+eiπjt|1⟩)|ui⟩H−→12[(1+eiπjt)|0⟩+(1−eiπjt)|1⟩]|ui⟩=|jt⟩|ui⟩Measure−−−−−→jt\n",
        "\n",
        "    Reflect the measurement result jt\n",
        "\n",
        "to the accumulation phase Φ(t): Φ(t): Φ(t)=π⋅jt2=π(0.jt)\n",
        "\n",
        "k=t−1,t−2,…,1\n",
        "\n",
        "\n",
        "    Apply a Hadamard gate to the auxiliary bit\n",
        "\n",
        "|0⟩|ui⟩H−→1√2(|0⟩+|1⟩)|ui⟩\n",
        "\n",
        "    Apply Z rotation gate RZ(Φ(k+1))\n",
        "\n",
        "to the auxiliary bit (where RZ(θ)=eiθ/2Z,Φ(k+1)=π(0.jk+1jk+2…jt)\n",
        "\n",
        "    )\n",
        "\n",
        "1√2(|0⟩+|1⟩)|ui⟩RZ−→eiΦ(k+1)/2√2(|0⟩+e−iπ(0.jk+1jk+2…jt)|1⟩)|ui⟩\n",
        "\n",
        "    Multiply the ancillary bits by Λ(U2k−1)\n",
        "\n",
        "eiΦ(k+1)/2√2(|0⟩+e−iπ(0.jk+1jk+2…jt)|1⟩)|ui⟩Λ(U2k−1)−−−−−→eiΦ(k+1)/2√2(|0⟩+eiπjk|1⟩)|ui⟩\n",
        "\n",
        "    Apply a Hadamard gate to the auxiliary bit and measure\n",
        "\n",
        "eiΦ(k+1)/2√2(|0⟩+eiπjk|1⟩)|ui⟩H−→eiΦ(k+1)/22[(1+eiπjk)|0⟩+(1−eiπjk)|1⟩]|ui⟩=eiΦ(k+1)/2|jk⟩|ui⟩Measure−−−−−→jk\n",
        "\n",
        "    Reflect the measurement result jk\n",
        "\n",
        "to the accumulation phase Φ(k)\n",
        "\n",
        "    :\n",
        "\n",
        "Φ(k)=Φ(k+1)2+π⋅jk2=π(0.jkjk+1…jt)\n",
        "After measuring all jk\n",
        "(k=t,t−1,…,1\n",
        ")\n",
        "\n",
        "We get the desired phase.\n",
        "λi=2Φ(1)=2π(0.j1.j2…jt)\n",
        "Example: Calculation of the ground state energy of the hydrogen molecular Hamiltonian using the quantum phase estimation algorithm\n",
        "\n",
        "Let’s calculate the ground state energy of the hydrogen molecule using the above iterative phase estimation algorithm (the following content is based on the paper [1]).\n",
        "\n",
        "As we learned in Section 4-1 and Section 6-1, the ground state energy of the hydrogen molecule is the smallest eigenvalue of Hamiltonian H\n",
        ". In QPE and IQPE, the eigenvalue problem of Hamiltonian H is solved by finding the eigenvalues ​​of its time evolution operator U=e−iHτ\n",
        "\n",
        ".\n",
        "\n",
        "Here, EminandEmax\n",
        "are the smallest and largest eigenvalues. τ is some constant and is set so that [Emin,Emax] fit in [0,2π]. (add a constant shift if necessary). Although in QPE and IQPE, the phase of the eigenvalue of U has 2π ambiguity, the eigenvalues ​​of H can be uniquely restored from the eigenvalues ​​of U\n",
        "\n",
        "this way.\n",
        "\n",
        "The steps required to calculate the basis energy are:\n",
        "\n",
        "    (Reduce Hamiltonian size using symmetry etc.)\n",
        "\n",
        "    Accurate approximation of Hamiltonian time evolution operator U=e−iHτ\n",
        "\n",
        "    Decompose the control time evolution operator into a gate set that can be easily executed on a quantum computer and implement it\n",
        "\n",
        "    Prepare an initial state with sufficient overlap with the ground state\n",
        "\n",
        "    Measuring energy eigenvalues ​​with IQPE\n",
        "\n",
        "A detailed explanation of the method and an implementation example are given below.\n",
        "0. (Reduce Hamiltonian size using symmetry etc.)\n",
        "\n",
        "This step is necessary to reduce resources as much as possible when actually running IQPE on a simulator or on a real machine, and is not theoretically essential. For details, refer to reference [1], but if we map the second quantized Hamiltonian of the hydrogen molecule (STO-6G basis) to the qubit system by the Bravyi-Kitaev transformation, we get a 4-qubit Hamiltonian = 16×16\n",
        "\n",
        "matrix. However, if we partially diagonalize the Hamiltonian using the symmetry of the Hamiltonian (such as the law of conservation of the number of electrons), we can get the ground state with 2 qubits, and the Hamiltonian has only 6 kinds of terms as follows.\n",
        "H=∑igiHi=g0I+g1Z0+g2Z1+g3Z0Z1+g4Y0Y1+g5X0X1\n",
        "\n",
        "where the coefficient gi\n",
        "\n",
        "is a real number and its value depends on the interatomic distance (arrangement) of hydrogen molecules. Readers unfamiliar with chemistry should just understand that the above Hermitian matrix corresponding to the hydrogen molecule exists and that it is important to find the minimum eigenvalue of it.\n",
        "1. Accurate approximation of Hamiltonian time evolution operator U=e−iHτ\n",
        "\n",
        "\n",
        "To implement the control unitary operation Λ(U2k)\n",
        "used in IQPE, we first implement the time evolution operator U=e−iHτ in a quantum circuit. First, noting that the constant terms g0I and g3Z0Z1 commute with all other terms in the Hamiltonian, U\n",
        "\n",
        "becomes\n",
        "e−iHτ=exp[−iτ∑igiHi]=exp[−iτg0I]exp[−iτg3Z0Z1]exp[−iτHeff]\n",
        "\n",
        "Here, Heff\n",
        "\n",
        "is\n",
        "Heff=g1Z0+g2Z1+g4Y0Y1+g5X0X1\n",
        "\n",
        "Since the contributions of g0I\n",
        "and g3Z0Z1 to the eigenvalues ​​of the parts can easily be added later, in the following we calculate the eigenvalues ​​of Heff using IQPE of Ueff:=e−iHeffτ\n",
        "\n",
        ".\n",
        "\n",
        "Trotter decomposition of Ueff\n",
        "\n",
        "is\n",
        "Ueff=exp[−iτ∑i=1,2,4,5giHi]≈U(N)Trot(τ):=(∏i=1,2,4,5exp[−igiHiτ/N])N\n",
        "\n",
        "Each term of the product appearing in U(N)Trot\n",
        "is a multi-qubit Pauli rotation gate, that is, the exponential function of the Pauli matrix product exp(iθP) , making it easy to implement as a product of simple quantum gates. Now we have approximately implemented Ueff\n",
        "\n",
        "on a quantum circuit.\n",
        "\n",
        "Let’s examine the errors in this approximation. When we do a rough analytical evaluation, we have [2]\n",
        "∣∣Ueff−U(N)Trot(τ)∣∣∼τ22N∑i>j|[Hi,Hj]|\n",
        "\n",
        "Since the system we are dealing with here is represented by a small matrix of 4×4\n",
        ", let’s diagonalize Heff exactly and find its minimum eigenvalue Emin, and compare it with λTrot of eiλTrotτ which is the eigenvalue of U(N)Trot\n",
        "\n",
        ".\n",
        "\n",
        "First, we diagonalize Heff\n",
        ". The unit of energy here is Hartree (Ha)."
      ],
      "metadata": {
        "id": "IKHyvWIBxr4e"
      }
    },
    {
      "cell_type": "code",
      "source": [
        "!pip3 install wurlitzer\n",
        "!pip3 install qulacs"
      ],
      "metadata": {
        "colab": {
          "base_uri": "https://localhost:8080/"
        },
        "id": "ckw-djqMnDZH",
        "outputId": "fd6f05f5-4a05-49fd-8a95-b08111cf67ad"
      },
      "execution_count": null,
      "outputs": [
        {
          "output_type": "stream",
          "name": "stdout",
          "text": [
            "Requirement already satisfied: wurlitzer in /usr/local/lib/python3.10/dist-packages (3.1.1)\n",
            "Collecting qulacs\n",
            "  Downloading qulacs-0.6.4.1-cp310-cp310-manylinux_2_17_x86_64.manylinux2014_x86_64.whl (944 kB)\n",
            "\u001b[2K     \u001b[90m━━━━━━━━━━━━━━━━━━━━━━━━━━━━━━━━━━━━━━━━\u001b[0m \u001b[32m944.4/944.4 kB\u001b[0m \u001b[31m4.3 MB/s\u001b[0m eta \u001b[36m0:00:00\u001b[0m\n",
            "\u001b[?25hRequirement already satisfied: numpy in /usr/local/lib/python3.10/dist-packages (from qulacs) (1.25.2)\n",
            "Requirement already satisfied: scipy in /usr/local/lib/python3.10/dist-packages (from qulacs) (1.11.4)\n",
            "Installing collected packages: qulacs\n",
            "Successfully installed qulacs-0.6.4.1\n"
          ]
        }
      ]
    },
    {
      "cell_type": "code",
      "source": [
        "from functools import reduce\n",
        "import numpy as np\n",
        "from numpy.linalg import matrix_power, eig\n",
        "from scipy.sparse.linalg import eigsh\n",
        "from openfermion.ops import QubitOperator\n",
        "from openfermion.linalg import get_sparse_operator #If you have an error, please update openfermion later than version 1.0.0\n",
        "from qulacs import QuantumState, Observable, QuantumCircuit\n",
        "import matplotlib.pyplot as plt\n",
        "\n",
        "## Run only in Google Colaboratory or (Linux or Mac) jupyter notebook environment\n",
        "## Qulacs errors will be output normally.\n",
        "!pip3 install wurlitzer\n",
        "%load_ext wurlitzer"
      ],
      "metadata": {
        "colab": {
          "base_uri": "https://localhost:8080/"
        },
        "id": "0S4xoZ3Dmbu5",
        "outputId": "10c7e30b-bd5b-4992-b4e7-49a35a7059da"
      },
      "execution_count": null,
      "outputs": [
        {
          "output_type": "stream",
          "name": "stdout",
          "text": [
            "Requirement already satisfied: wurlitzer in /usr/local/lib/python3.10/dist-packages (3.1.1)\n",
            "The wurlitzer extension is already loaded. To reload it, use:\n",
            "  %reload_ext wurlitzer\n"
          ]
        }
      ]
    },
    {
      "cell_type": "code",
      "source": [
        "def hamiltonian_eff():\n",
        "    \"\"\"\n",
        "    distance = 0.70 A\n",
        "    removed 'I' and 'Z0 Z1' terms, which add up to -1.31916027\n",
        "    \"\"\"\n",
        "    n_qubits = 2\n",
        "    g_list = [0.3593, 0.0896, -0.4826, 0.0896] ## taken from table 1 of paper [1]\n",
        "    pauli_strings = ['Z0', 'Y0 Y1', 'Z1', 'X0 X1']\n",
        "    hamiltonian = QubitOperator()\n",
        "    for g, h in zip(g_list, pauli_strings):\n",
        "        hamiltonian += g * QubitOperator(h)\n",
        "    sparse_matrix = get_sparse_operator(hamiltonian, n_qubits=n_qubits)\n",
        "    vals, vecs = eigsh(sparse_matrix, k=1, which='SA') ## only smallest eigenvalue and eigenvector are calculated\n",
        "    return sparse_matrix, vals"
      ],
      "metadata": {
        "id": "UdXK5Hcimsew"
      },
      "execution_count": null,
      "outputs": []
    },
    {
      "cell_type": "code",
      "source": [
        "_, eigs = hamiltonian_eff()\n",
        "exact_eigenvalue = eigs[0]\n",
        "print('exact_eigenvalue: {:.10f} Ha'.format(exact_eigenvalue)) ## print eigenvalue up to 10 digits after decimal point"
      ],
      "metadata": {
        "colab": {
          "base_uri": "https://localhost:8080/"
        },
        "id": "ugmq3Sg5ned5",
        "outputId": "3df4d0ac-f634-421b-ea72-54b382a0700a"
      },
      "execution_count": null,
      "outputs": [
        {
          "output_type": "stream",
          "name": "stdout",
          "text": [
            "exact_eigenvalue: -0.8607602744 Ha\n"
          ]
        }
      ]
    },
    {
      "cell_type": "markdown",
      "source": [
        "Next, we diagonalize U(N)Trot. Later, we implement U(N)Trot as a quantum circuit. Here, we calculate it by using the following formula which holds true when H2i=I\n",
        "\n",
        "(∏i=1,2,4,5exp[−igiHiτ/N])N=(∏i=1,2,4,5(cos(giτ/N)I−isin(giτ/N)Hi))N\n",
        "\n",
        "Then, find the λTrot\n",
        "of the eigenvalue e−iλTrotτ of U(N)Trot at N=1,3,…,9 and compare it with Emin."
      ],
      "metadata": {
        "id": "PJT1xNL_yaJC"
      }
    },
    {
      "cell_type": "code",
      "source": [
        "def order_n_trotter_approx(t, n_trotter_steps):\n",
        "    \"\"\"\n",
        "    ordering: 'Z0', 'Y0 Y1', 'Z1', 'X0 X1'\n",
        "    Returns:\n",
        "        sparse_matrix: trotterized [exp(iHt/n)]^n\n",
        "        args: list of phases of each eigenvalue, exp(i*phase)\n",
        "    \"\"\"\n",
        "    n_qubits = 2\n",
        "    g_list = [0.3593, 0.0896, -0.4826, 0.0896]\n",
        "    pauli_strings = ['Z0', 'Y0 Y1', 'Z1', 'X0 X1']\n",
        "    terms = []\n",
        "    for g, h in zip(g_list, pauli_strings):\n",
        "        arg = g * t / n_trotter_steps\n",
        "        qop = complex(np.cos(arg), 0) * QubitOperator('') - complex(0, np.sin(arg)) * QubitOperator(h)\n",
        "        terms += [get_sparse_operator(qop, n_qubits=n_qubits)]\n",
        "    sparse_matrix = reduce(np.dot, terms)\n",
        "    matrix = matrix_power(sparse_matrix.toarray(), n_trotter_steps)  ## this is U_{trot}^{(N)}\n",
        "    vals, vecs = eig(matrix)  ## e^{i lambda_{trot} }\n",
        "    args = np.angle(vals) ## returns value in [-pi, pi] -> we don't modify output since we know exact value is around -0.86\n",
        "    return sparse_matrix, sorted(args) ## we return sorted values"
      ],
      "metadata": {
        "id": "FFMlBYAsntxT"
      },
      "execution_count": null,
      "outputs": []
    },
    {
      "cell_type": "code",
      "source": [
        "tau = 0.640 ## taken from table 1 of paper [1]\n",
        "print('N, E_trot, |exact_eig - E_trot|')\n",
        "for n in range(1, 10, 2):\n",
        "    _, phases = order_n_trotter_approx(tau, n)\n",
        "    e_trotter = phases[0]/tau\n",
        "    print( f\"{n}, {e_trotter:.10f}, {abs(exact_eigenvalue - e_trotter):.3e}\" )"
      ],
      "metadata": {
        "colab": {
          "base_uri": "https://localhost:8080/"
        },
        "id": "KTCJdJcln38t",
        "outputId": "f66dd11c-6f54-4d38-8bfa-d2eb70ca71cb"
      },
      "execution_count": null,
      "outputs": [
        {
          "output_type": "stream",
          "name": "stdout",
          "text": [
            "N, E_trot, |exact_eig - E_trot|\n",
            "1, -0.8602760326, 4.842e-04\n",
            "3, -0.8607068561, 5.342e-05\n",
            "5, -0.8607410548, 1.922e-05\n",
            "7, -0.8607504700, 9.804e-06\n",
            "9, -0.8607543437, 5.931e-06\n"
          ]
        }
      ]
    },
    {
      "cell_type": "markdown",
      "source": [
        "As the order N increases, the accuracy of the approximation increases.To approximate the true energy eigenvalues ​​with the accuracy required by chemical calculation, called chemical accuracy ( 1.6×10−3 Ha), N=1\n",
        "\n",
        "turns out to be enough this time.\n",
        "2. Decomposition of the control time evolution operator into a set of gates that can be easily executed on a quantum computer and implementation.\n",
        "\n",
        "To run the controlled time evolution operator Λ((U(N)Trot)2k)\n",
        "on a quantum computer needs to decompose this into simple quantum gates. In this example, we need to decompose the following controlled rotation gate included in U(N)Trot\n",
        "\n",
        ".\n",
        "\n",
        "    Λ(RZ(θ))\n",
        "\n",
        "Λ(RXX(θ))\n",
        "\n",
        "Λ(RYY(θ))\n",
        "\n",
        "RZ(θ)=eiθ/2Zx\n",
        "is the Z direction rotation gate acting on the x(=0,1)th qubit, RXX(θ)=eiθ/2X0X1,RYY(θ)=eiθ/2Y0Y1\n",
        "\n",
        "is also a rotation gate.\n",
        "\n",
        "First, Λ(RZ(θ))\n",
        "is a gate that, when multiplied by control bit |c⟩ and target bit |t⟩, satisfies (c=0,1)\n",
        "\n",
        "Λ(RZ(θ))|c⟩|t⟩=|c⟩(RZ(θ))c|t⟩\n",
        "\n",
        "Note that CNOT|c⟩|t⟩=|c⟩Xc|t⟩\n",
        "、 XZX=−Z\n",
        "\n",
        "holds, the formula can be transformed as follows\n",
        "CNOT(I⊗RZ(−θ/2))CNOT(I⊗RZ(θ/2))|c⟩|t⟩=|c⟩　Xc　RZ(−θ/2)XcRZ(θ/2)|t⟩=|c⟩(RZ(θ))c|t⟩\n",
        "\n",
        "Therefore,\n",
        "Λ(RZ(θ))=CNOT(I⊗RZ(−θ/2))CNOT(I⊗RZ(θ/2))\n",
        "\n",
        "In other words, the controlled rotation gate Λ(RZ(θ))\n",
        "could be implemented using the basic gates of the CNOT gate and the Z\n",
        "\n",
        "rotation gate.\n",
        "\n",
        "Moreover,\n",
        "CNOT0,1(I0⊗Z1)CNOT0,1=Z0⊗Z1\n",
        "\n",
        "Using the above, Λ(RZZ(θ))\n",
        "\n",
        "can be realized.\n",
        "\n",
        "Then, using HZH=X\n",
        "or SHZHS†=Y, Λ(RXX(θ)), Λ(RYY(θ))\n",
        "\n",
        "can be realized respectively. See also the implementation below for details.\n",
        "\n",
        "In the code below, in Qulacs, we implement a quantum circuit of time evolution operator Λ((U(N)Trot)2k)\n",
        "\n",
        "and construct a circuit to run in IQPE. The circuit diagram is as follows.\n",
        "\n",
        "IQPE circuit"
      ],
      "metadata": {
        "id": "Ap9OC77ZylOI"
      }
    },
    {
      "cell_type": "code",
      "source": [
        "def IQPE_circuit(g_list, tau, kickback_phase, k, n_trotter_step=1):\n",
        "    n_qubits = 3 ## 2 for system, 1 for ancillary\n",
        "    a_idx = 2 ## ancilla index\n",
        "    phi = -(tau / n_trotter_step) * g_list ## coefficient for Pauli\n",
        "    circuit = QuantumCircuit(n_qubits)\n",
        "    ## Apply Hadamard to ancilla\n",
        "    circuit.add_H_gate(a_idx)\n",
        "    ## Apply kickback phase rotation to ancilla bit\n",
        "    circuit.add_RZ_gate(a_idx, kickback_phase)\n",
        "    ## controlled time evolution (Apply controll-e^{-iH*tau} for 2^{k-1} times\n",
        "    for _ in range( 2 ** (k-1) ):\n",
        "        for _ in range(n_trotter_step):\n",
        "            # CU(Z0) i.e. controlled exp(i phi[0]*Z_0)\n",
        "            circuit.add_RZ_gate(0, phi[0]) ## note that qulacs' RZ is defined as RZ(theta) = e^{i*theta/2*Z}\n",
        "            circuit.add_CNOT_gate(a_idx, 0)\n",
        "            circuit.add_RZ_gate(0, -phi[0])\n",
        "            circuit.add_CNOT_gate(a_idx, 0)\n",
        "\n",
        "            # CU(Y0 Y1)\n",
        "            circuit.add_Sdag_gate(0)\n",
        "            circuit.add_Sdag_gate(1)\n",
        "            circuit.add_H_gate(0)\n",
        "            circuit.add_H_gate(1)\n",
        "            circuit.add_CNOT_gate(0, 1)\n",
        "            circuit.add_RZ_gate(1, phi[1])\n",
        "            circuit.add_CNOT_gate(a_idx, 1)\n",
        "            circuit.add_RZ_gate(1, -phi[1])\n",
        "            circuit.add_CNOT_gate(a_idx, 1)\n",
        "            circuit.add_CNOT_gate(0, 1)\n",
        "            circuit.add_H_gate(0)\n",
        "            circuit.add_H_gate(1)\n",
        "            circuit.add_S_gate(0)\n",
        "            circuit.add_S_gate(1)\n",
        "\n",
        "            # CU(Z1)\n",
        "            circuit.add_RZ_gate(1, phi[2])\n",
        "            circuit.add_CNOT_gate(a_idx, 1)\n",
        "            circuit.add_RZ_gate(1, -phi[2])\n",
        "            circuit.add_CNOT_gate(a_idx, 1)\n",
        "\n",
        "            # CU(X0 X1)\n",
        "            circuit.add_H_gate(0)\n",
        "            circuit.add_H_gate(1)\n",
        "            circuit.add_CNOT_gate(0, 1)\n",
        "            circuit.add_RZ_gate(1, phi[3])\n",
        "            circuit.add_CNOT_gate(a_idx, 1)\n",
        "            circuit.add_RZ_gate(1, -phi[3])\n",
        "            circuit.add_CNOT_gate(a_idx, 1)\n",
        "            circuit.add_CNOT_gate(0, 1)\n",
        "            circuit.add_H_gate(0)\n",
        "            circuit.add_H_gate(1)\n",
        "\n",
        "    ## Apply Hadamard to ancilla\n",
        "    circuit.add_H_gate(a_idx)\n",
        "    return circuit"
      ],
      "metadata": {
        "id": "PRtsIrBYn8Cj"
      },
      "execution_count": null,
      "outputs": []
    },
    {
      "cell_type": "markdown",
      "source": [
        "Prepare an initial state with sufficient overlap with the ground state\n",
        "\n",
        "In the explanation of QPE and IQPE so far, for the sake of simplicity, we have assumed that the state on which U\n",
        "\n",
        "acts is its eigenstate. In fact, even if the input state is “sufficiently close to (overlapping) the state for which the eigenvalue is desired,” the eigenvalue can be obtained with sufficiently high accuracy.\n",
        "\n",
        "Let |n⟩\n",
        "\n",
        "be the eigenstate of the Hamiltonian, E be the corresponding eigenvalue, and p be the reference state.\n",
        "eiH|0…0⟩|ϕ⟩QPE−−−→∑ncn|~En⟩|n⟩\n",
        "\n",
        "Here, for example, if the 1st ancillary bit j1\n",
        "is measured, the probability of observing 0 is ∑ns.t.~En(1)=0|cn|2 , that is, proportional to the sum of the weights for the eigenvalues ​​En whose first digit in the binary decimal expansion of the eigenvalues ​​is 0. Therefore, if the value of {|cn|2}n is large enough only for the desired state, repeat the measurement of j1\n",
        "\n",
        "and take 0 or 1, whichever is more observed, to obtain the desired eigenvalue of (See also Nielsen-Chuang’s Exercise 5.8 for a more rigorous treatment.)\n",
        "\n",
        "In the case of the problem of obtaining the ground energy of the hydrogen molecule this time, the Hartree-Fock (HF) state |ϕ⟩=|01⟩\n",
        "is sufficiently close to the ground state, so it is used (Note: In this case the HF state is |01⟩\n",
        "\n",
        "[1])\n",
        "4. Measure energy eigenvalues ​​with IQPE\n",
        "\n",
        "Now let’s run IQPE.\n",
        "\n",
        "The implementation below uses state.get_marginal_probability(bit_list) which is convenient when measuring only specific qubits such as auxiliary bits and using the results. This is a function that calculates the probability that a particular qubit of a quantum state state has a particular bit value from the amplitude of the wave function. For example, the probability that the ancillary bit (index=2) is in the 0 state (0, do not measure for the 1st qubit) are obtained with get_marginal_probability([2, 2, 0]) (2 stands for no measurement)."
      ],
      "metadata": {
        "id": "PMrvZLfeyz_Y"
      }
    },
    {
      "cell_type": "code",
      "source": [
        "from qulacs.circuit import QuantumCircuitOptimizer\n",
        "\n",
        "def iterative_phase_estimation(g_list, tau, n_itter, init_state, n_trotter_step=1, kickback_phase=0.0):\n",
        "    for k in reversed(range(1, n_itter+1)): ## run from n_itter to 1\n",
        "        psi = init_state.copy()\n",
        "        circuit = IQPE_circuit(np.array(g_list), tau, kickback_phase, k, n_trotter_step=n_trotter_step)\n",
        "        ## Optimize loops for faster execution time\n",
        "        opt = QuantumCircuitOptimizer()\n",
        "        max_block_size = 4\n",
        "        opt.optimize(circuit, max_block_size)\n",
        "        ## execute circuit\n",
        "        circuit.update_quantum_state(psi)\n",
        "        # partial trace\n",
        "        p0 = psi.get_marginal_probability([2, 2, 0])\n",
        "        p1 = psi.get_marginal_probability([2, 2, 1])\n",
        "        # update kickback phase\n",
        "        #print(f\"k={k:2d}, p0={p0:.3f}, p1={p1:.3f}\")\n",
        "        kth_digit = 1 if (p0 < p1) else 0\n",
        "        kickback_phase = 0.5 * kickback_phase + np.pi * 0.5 * kth_digit\n",
        "    return 2 * kickback_phase"
      ],
      "metadata": {
        "id": "btNszC5ToIu_"
      },
      "execution_count": null,
      "outputs": []
    },
    {
      "cell_type": "markdown",
      "source": [
        "Then, IQPE is executed while checking how many digits the phase should be measured (how large t of 0.j1…jt should be). When chemical precision (1.6×10−3\n",
        "\n",
        "Ha), which is one measure of precision in chemistry calculation, is required, the number of iterations theoretically estimated [3] is\n",
        "t=−log2(1.6×10−3)+log2(2+12×0.5)≈10.87\n",
        "\n",
        "In other words, t=11\n",
        "is sufficient. Let’s actually calculate it."
      ],
      "metadata": {
        "id": "WGOm5mYhy9mu"
      }
    },
    {
      "cell_type": "code",
      "source": [
        "from qulacs.circuit import QuantumCircuitOptimizer\n",
        "\n",
        "def iterative_phase_estimation(g_list, tau, n_itter, init_state, n_trotter_step=1, kickback_phase=0.0):\n",
        "    for k in reversed(range(1, n_itter+1)): ## run from n_itter to 1\n",
        "        psi = init_state.copy()\n",
        "        circuit = IQPE_circuit(np.array(g_list), tau, kickback_phase, k, n_trotter_step=n_trotter_step)\n",
        "        ## Optimize loops for faster execution time\n",
        "        opt = QuantumCircuitOptimizer()\n",
        "        max_block_size = 4\n",
        "        opt.optimize(circuit, max_block_size)\n",
        "        ## execute circuit\n",
        "        circuit.update_quantum_state(psi)\n",
        "        # partial trace\n",
        "        p0 = psi.get_marginal_probability([2, 2, 0])\n",
        "        p1 = psi.get_marginal_probability([2, 2, 1])\n",
        "        # update kickback phase\n",
        "        #print(f\"k={k:2d}, p0={p0:.3f}, p1={p1:.3f}\")\n",
        "        kth_digit = 1 if (p0 < p1) else 0\n",
        "        kickback_phase = 0.5 * kickback_phase + np.pi * 0.5 * kth_digit\n",
        "    return 2 * kickback_phase"
      ],
      "metadata": {
        "id": "luhuUOQ8oStc"
      },
      "execution_count": null,
      "outputs": []
    },
    {
      "cell_type": "code",
      "source": [
        "n_qubits = 3 # 2 for electron configurations and 1 for ancilla\n",
        "g_list = [0.3593, 0.0896, -0.4826, 0.0896]\n",
        "# pauli_strings = ['Z 0', 'Y 0 Y 1', 'Z 1', 'X 0 X 1']\n",
        "hf_state = QuantumState(n_qubits)\n",
        "hf_state.set_computational_basis(0b001) # |0>|01>\n",
        "tau = 0.640\n",
        "\n",
        "e_trotter = -0.8602760325707504 ## exact one of U_{Trot}^{(N)}\n",
        "print(f\"e_trotter={e_trotter:.10f}\")\n",
        "\n",
        "result_list = []\n",
        "for n_itter in range(1, 12+1): # precission in digit\n",
        "    iqpe_phase = iterative_phase_estimation(g_list, tau, n_itter, hf_state, n_trotter_step=1, kickback_phase=0.0)\n",
        "    e_iqpe = - iqpe_phase/tau ## U=exp(-iH*tau) so the IQPE picks up eigenvalue of -H*tau\n",
        "    print(f\"n_itter={n_itter:2d}, e_iqpe={e_iqpe:10f}, error={np.abs(e_iqpe-e_trotter):.5e}\")\n",
        "    result_list.append([n_itter, e_iqpe])\n",
        "\n",
        "#print('e_iqpe = {} Ha, |e_iqpe-e_trotter| = {} Ha'.format(e_iqpe, abs(e_iqpe-e_trotter)))"
      ],
      "metadata": {
        "colab": {
          "base_uri": "https://localhost:8080/"
        },
        "id": "HxvFovw1oTwf",
        "outputId": "17d4d871-3a94-4b99-8150-76fd726e0114"
      },
      "execution_count": null,
      "outputs": [
        {
          "output_type": "stream",
          "name": "stdout",
          "text": [
            "e_trotter=-0.8602760326\n",
            "n_itter= 1, e_iqpe= -0.000000, error=8.60276e-01\n",
            "n_itter= 2, e_iqpe= -0.000000, error=8.60276e-01\n",
            "n_itter= 3, e_iqpe= -1.227185, error=3.66909e-01\n",
            "n_itter= 4, e_iqpe= -0.613592, error=2.46684e-01\n",
            "n_itter= 5, e_iqpe= -0.920388, error=6.01124e-02\n",
            "n_itter= 6, e_iqpe= -0.920388, error=6.01124e-02\n",
            "n_itter= 7, e_iqpe= -0.843689, error=1.65866e-02\n",
            "n_itter= 8, e_iqpe= -0.843689, error=1.65866e-02\n",
            "n_itter= 9, e_iqpe= -0.862864, error=2.58816e-03\n",
            "n_itter=10, e_iqpe= -0.862864, error=2.58816e-03\n",
            "n_itter=11, e_iqpe= -0.858071, error=2.20553e-03\n",
            "n_itter=12, e_iqpe= -0.860467, error=1.91316e-04\n"
          ]
        }
      ]
    },
    {
      "cell_type": "code",
      "source": [
        "\n",
        "## plotting the result\n",
        "result_array = np.array(result_list)\n",
        "plt.xlabel(\"# of digit\", fontsize=15)\n",
        "plt.ylabel(\"Error\", fontsize=15)\n",
        "plt.semilogy(result_array[:,0], np.abs(result_array[:,1] - e_trotter), \"bo-\")\n",
        "plt.xlim(0,13)\n",
        "plt.fill_between([0,13], 1.6e-3, color = \"lightgrey\") ## fill the chemical accuracy region\n"
      ],
      "metadata": {
        "colab": {
          "base_uri": "https://localhost:8080/",
          "height": 484
        },
        "id": "NZgGwvoHoZ2f",
        "outputId": "b5e2221c-74fe-4203-cbf6-15b4adcf85bc"
      },
      "execution_count": null,
      "outputs": [
        {
          "output_type": "execute_result",
          "data": {
            "text/plain": [
              "<matplotlib.collections.PolyCollection at 0x7e2f390fa950>"
            ]
          },
          "metadata": {},
          "execution_count": 40
        },
        {
          "output_type": "display_data",
          "data": {
            "text/plain": [
              "<Figure size 640x480 with 1 Axes>"
            ],
            "image/png": "[encoded data removed]"
          },
          "metadata": {}
        }
      ]
    },
    {
      "cell_type": "markdown",
      "source": [
        "As expected, we finally reached chemical accuracy at n_itter = 12.\n",
        "\n",
        "One thing to note here is that the sample code introduced here uses the (controlled) time evolution operator Λ((U(N)Trot)2k)\n",
        "whose depth grows exponentially with respect to t. That is, exponentially more gates must be used to improve accuracy. Here, we introduced a method based on a simple Trotter decomposition, there have been many studies using other methods to efficiently implement the time evolution operator."
      ],
      "metadata": {
        "id": "5qxxA32qzBT4"
      }
    }
  ]
}